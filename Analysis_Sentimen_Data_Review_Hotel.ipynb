{
  "nbformat": 4,
  "nbformat_minor": 0,
  "metadata": {
    "colab": {
      "name": "Analysis Sentimen Data Review Hotel.ipynb",
      "provenance": [],
      "collapsed_sections": []
    },
    "kernelspec": {
      "name": "python3",
      "display_name": "Python 3"
    },
    "language_info": {
      "name": "python"
    }
  },
  "cells": [
    {
      "cell_type": "code",
      "metadata": {
        "id": "NBxM3hYpKKmF"
      },
      "source": [
        "import pandas as pd\n",
        "import numpy as np\n",
        "import tensorflow as tf\n",
        "\n",
        "from sklearn.model_selection import train_test_split\n",
        "from sklearn.preprocessing import OneHotEncoder\n",
        "\n",
        "from tensorflow.keras.preprocessing.text import Tokenizer\n",
        "from tensorflow.keras.preprocessing.sequence import pad_sequences\n",
        "from tensorflow.keras import Sequential\n",
        "from tensorflow.keras.layers import Flatten, Dense, Embedding, Conv1D, GlobalMaxPooling1D, Dropout\n",
        "from tensorflow.keras.callbacks import EarlyStopping, ReduceLROnPlateau\n",
        "\n",
        "# visualization\n",
        "import seaborn as sns\n",
        "import matplotlib.pyplot as plt"
      ],
      "execution_count": null,
      "outputs": []
    },
    {
      "cell_type": "code",
      "metadata": {
        "colab": {
          "base_uri": "https://localhost:8080/",
          "height": 417
        },
        "id": "UR5FJIqiKN7o",
        "outputId": "33912362-1922-4bfd-9896-820021555dc2"
      },
      "source": [
        "path = \"/content/drive/MyDrive/LatihanML/tripadvisor_hotel_reviews.csv\"\n",
        "df = pd.read_csv(path)\n",
        "df"
      ],
      "execution_count": null,
      "outputs": [
        {
          "output_type": "execute_result",
          "data": {
            "text/html": [
              "<div>\n",
              "<style scoped>\n",
              "    .dataframe tbody tr th:only-of-type {\n",
              "        vertical-align: middle;\n",
              "    }\n",
              "\n",
              "    .dataframe tbody tr th {\n",
              "        vertical-align: top;\n",
              "    }\n",
              "\n",
              "    .dataframe thead th {\n",
              "        text-align: right;\n",
              "    }\n",
              "</style>\n",
              "<table border=\"1\" class=\"dataframe\">\n",
              "  <thead>\n",
              "    <tr style=\"text-align: right;\">\n",
              "      <th></th>\n",
              "      <th>Review</th>\n",
              "      <th>Rating</th>\n",
              "    </tr>\n",
              "  </thead>\n",
              "  <tbody>\n",
              "    <tr>\n",
              "      <th>0</th>\n",
              "      <td>nice hotel expensive parking got good deal sta...</td>\n",
              "      <td>4</td>\n",
              "    </tr>\n",
              "    <tr>\n",
              "      <th>1</th>\n",
              "      <td>ok nothing special charge diamond member hilto...</td>\n",
              "      <td>2</td>\n",
              "    </tr>\n",
              "    <tr>\n",
              "      <th>2</th>\n",
              "      <td>nice rooms not 4* experience hotel monaco seat...</td>\n",
              "      <td>3</td>\n",
              "    </tr>\n",
              "    <tr>\n",
              "      <th>3</th>\n",
              "      <td>unique, great stay, wonderful time hotel monac...</td>\n",
              "      <td>5</td>\n",
              "    </tr>\n",
              "    <tr>\n",
              "      <th>4</th>\n",
              "      <td>great stay great stay, went seahawk game aweso...</td>\n",
              "      <td>5</td>\n",
              "    </tr>\n",
              "    <tr>\n",
              "      <th>...</th>\n",
              "      <td>...</td>\n",
              "      <td>...</td>\n",
              "    </tr>\n",
              "    <tr>\n",
              "      <th>20486</th>\n",
              "      <td>best kept secret 3rd time staying charm, not 5...</td>\n",
              "      <td>5</td>\n",
              "    </tr>\n",
              "    <tr>\n",
              "      <th>20487</th>\n",
              "      <td>great location price view hotel great quick pl...</td>\n",
              "      <td>4</td>\n",
              "    </tr>\n",
              "    <tr>\n",
              "      <th>20488</th>\n",
              "      <td>ok just looks nice modern outside, desk staff ...</td>\n",
              "      <td>2</td>\n",
              "    </tr>\n",
              "    <tr>\n",
              "      <th>20489</th>\n",
              "      <td>hotel theft ruined vacation hotel opened sept ...</td>\n",
              "      <td>1</td>\n",
              "    </tr>\n",
              "    <tr>\n",
              "      <th>20490</th>\n",
              "      <td>people talking, ca n't believe excellent ratin...</td>\n",
              "      <td>2</td>\n",
              "    </tr>\n",
              "  </tbody>\n",
              "</table>\n",
              "<p>20491 rows × 2 columns</p>\n",
              "</div>"
            ],
            "text/plain": [
              "                                                  Review  Rating\n",
              "0      nice hotel expensive parking got good deal sta...       4\n",
              "1      ok nothing special charge diamond member hilto...       2\n",
              "2      nice rooms not 4* experience hotel monaco seat...       3\n",
              "3      unique, great stay, wonderful time hotel monac...       5\n",
              "4      great stay great stay, went seahawk game aweso...       5\n",
              "...                                                  ...     ...\n",
              "20486  best kept secret 3rd time staying charm, not 5...       5\n",
              "20487  great location price view hotel great quick pl...       4\n",
              "20488  ok just looks nice modern outside, desk staff ...       2\n",
              "20489  hotel theft ruined vacation hotel opened sept ...       1\n",
              "20490  people talking, ca n't believe excellent ratin...       2\n",
              "\n",
              "[20491 rows x 2 columns]"
            ]
          },
          "metadata": {
            "tags": []
          },
          "execution_count": 2
        }
      ]
    },
    {
      "cell_type": "code",
      "metadata": {
        "colab": {
          "base_uri": "https://localhost:8080/"
        },
        "id": "APUFxLSCKREA",
        "outputId": "2084559c-6a64-4a69-8318-6a4fda63bc75"
      },
      "source": [
        "# cek nilai kosong\n",
        "df.isnull().sum()"
      ],
      "execution_count": null,
      "outputs": [
        {
          "output_type": "execute_result",
          "data": {
            "text/plain": [
              "Review    0\n",
              "Rating    0\n",
              "dtype: int64"
            ]
          },
          "metadata": {
            "tags": []
          },
          "execution_count": 3
        }
      ]
    },
    {
      "cell_type": "code",
      "metadata": {
        "colab": {
          "base_uri": "https://localhost:8080/"
        },
        "id": "fpStNxIZKTCl",
        "outputId": "9bdfd772-e355-4b8b-cba9-ebd9dd1128ad"
      },
      "source": [
        "# cek jika ada string kosong pada review, jika ada maka dihapus \n",
        "empty = []\n",
        "# itertuples = iterasi tuples bernama dari dataframe\n",
        "for i,review,rating in df.itertuples():\n",
        "  if type(review) == str:\n",
        "    if review.isspace():\n",
        "      empty.append(i) #untuk mengambil index string kosong dari review\n",
        "            \n",
        "print(f\"Total {len(empty)} string kosong dari review.\")"
      ],
      "execution_count": null,
      "outputs": [
        {
          "output_type": "stream",
          "text": [
            "Total 0 string kosong dari review.\n"
          ],
          "name": "stdout"
        }
      ]
    },
    {
      "cell_type": "code",
      "metadata": {
        "colab": {
          "base_uri": "https://localhost:8080/"
        },
        "id": "5uPGui5gKV0A",
        "outputId": "5d596f41-0b89-47d5-c56d-efb46748112e"
      },
      "source": [
        "# cek jumlah nilai pada colum rating\n",
        "df['Rating'].value_counts()"
      ],
      "execution_count": null,
      "outputs": [
        {
          "output_type": "execute_result",
          "data": {
            "text/plain": [
              "5    9054\n",
              "4    6039\n",
              "3    2184\n",
              "2    1793\n",
              "1    1421\n",
              "Name: Rating, dtype: int64"
            ]
          },
          "metadata": {
            "tags": []
          },
          "execution_count": 5
        }
      ]
    },
    {
      "cell_type": "code",
      "metadata": {
        "colab": {
          "base_uri": "https://localhost:8080/"
        },
        "id": "bHU2dlpdKYUW",
        "outputId": "d037f00e-9c09-48e8-adbf-402d2ae0ed03"
      },
      "source": [
        "# cek type data\n",
        "df.info()"
      ],
      "execution_count": null,
      "outputs": [
        {
          "output_type": "stream",
          "text": [
            "<class 'pandas.core.frame.DataFrame'>\n",
            "RangeIndex: 20491 entries, 0 to 20490\n",
            "Data columns (total 2 columns):\n",
            " #   Column  Non-Null Count  Dtype \n",
            "---  ------  --------------  ----- \n",
            " 0   Review  20491 non-null  object\n",
            " 1   Rating  20491 non-null  int64 \n",
            "dtypes: int64(1), object(1)\n",
            "memory usage: 320.3+ KB\n"
          ],
          "name": "stdout"
        }
      ]
    },
    {
      "cell_type": "code",
      "metadata": {
        "colab": {
          "base_uri": "https://localhost:8080/",
          "height": 510
        },
        "id": "GGDaFRliKaWY",
        "outputId": "18a52307-0bcc-4b00-ddd5-229f5f1368f4"
      },
      "source": [
        "# visualisasi data kolom Rating\n",
        "plt.figure(figsize=(12,8))\n",
        "df.groupby('Rating').size().plot(kind='bar',y='Rating',legend=True)\n",
        "plt.ylabel('Rating')"
      ],
      "execution_count": null,
      "outputs": [
        {
          "output_type": "execute_result",
          "data": {
            "text/plain": [
              "Text(0, 0.5, 'Rating')"
            ]
          },
          "metadata": {
            "tags": []
          },
          "execution_count": 7
        },
        {
          "output_type": "display_data",
          "data": {
            "image/png": "[encoded data removed]",
            "text/plain": [
              "<Figure size 864x576 with 1 Axes>"
            ]
          },
          "metadata": {
            "tags": [],
            "needs_background": "light"
          }
        }
      ]
    },
    {
      "cell_type": "code",
      "metadata": {
        "colab": {
          "base_uri": "https://localhost:8080/",
          "height": 417
        },
        "id": "uFJ-s-hdKiZ5",
        "outputId": "e259ae2a-a8db-409b-ea7a-8f0c84115bfd"
      },
      "source": [
        "# Modifikasi rating\n",
        "\n",
        "df[\"Rating\"] = df[\"Rating\"].replace([1, 2], \"Negatif\")\n",
        "df[\"Rating\"] = df[\"Rating\"].replace([4, 5], \"Positif\")\n",
        "df[\"Rating\"] = df[\"Rating\"].replace([3], \"Netral\")\n",
        "df"
      ],
      "execution_count": null,
      "outputs": [
        {
          "output_type": "execute_result",
          "data": {
            "text/html": [
              "<div>\n",
              "<style scoped>\n",
              "    .dataframe tbody tr th:only-of-type {\n",
              "        vertical-align: middle;\n",
              "    }\n",
              "\n",
              "    .dataframe tbody tr th {\n",
              "        vertical-align: top;\n",
              "    }\n",
              "\n",
              "    .dataframe thead th {\n",
              "        text-align: right;\n",
              "    }\n",
              "</style>\n",
              "<table border=\"1\" class=\"dataframe\">\n",
              "  <thead>\n",
              "    <tr style=\"text-align: right;\">\n",
              "      <th></th>\n",
              "      <th>Review</th>\n",
              "      <th>Rating</th>\n",
              "    </tr>\n",
              "  </thead>\n",
              "  <tbody>\n",
              "    <tr>\n",
              "      <th>0</th>\n",
              "      <td>nice hotel expensive parking got good deal sta...</td>\n",
              "      <td>Positif</td>\n",
              "    </tr>\n",
              "    <tr>\n",
              "      <th>1</th>\n",
              "      <td>ok nothing special charge diamond member hilto...</td>\n",
              "      <td>Negatif</td>\n",
              "    </tr>\n",
              "    <tr>\n",
              "      <th>2</th>\n",
              "      <td>nice rooms not 4* experience hotel monaco seat...</td>\n",
              "      <td>Netral</td>\n",
              "    </tr>\n",
              "    <tr>\n",
              "      <th>3</th>\n",
              "      <td>unique, great stay, wonderful time hotel monac...</td>\n",
              "      <td>Positif</td>\n",
              "    </tr>\n",
              "    <tr>\n",
              "      <th>4</th>\n",
              "      <td>great stay great stay, went seahawk game aweso...</td>\n",
              "      <td>Positif</td>\n",
              "    </tr>\n",
              "    <tr>\n",
              "      <th>...</th>\n",
              "      <td>...</td>\n",
              "      <td>...</td>\n",
              "    </tr>\n",
              "    <tr>\n",
              "      <th>20486</th>\n",
              "      <td>best kept secret 3rd time staying charm, not 5...</td>\n",
              "      <td>Positif</td>\n",
              "    </tr>\n",
              "    <tr>\n",
              "      <th>20487</th>\n",
              "      <td>great location price view hotel great quick pl...</td>\n",
              "      <td>Positif</td>\n",
              "    </tr>\n",
              "    <tr>\n",
              "      <th>20488</th>\n",
              "      <td>ok just looks nice modern outside, desk staff ...</td>\n",
              "      <td>Negatif</td>\n",
              "    </tr>\n",
              "    <tr>\n",
              "      <th>20489</th>\n",
              "      <td>hotel theft ruined vacation hotel opened sept ...</td>\n",
              "      <td>Negatif</td>\n",
              "    </tr>\n",
              "    <tr>\n",
              "      <th>20490</th>\n",
              "      <td>people talking, ca n't believe excellent ratin...</td>\n",
              "      <td>Negatif</td>\n",
              "    </tr>\n",
              "  </tbody>\n",
              "</table>\n",
              "<p>20491 rows × 2 columns</p>\n",
              "</div>"
            ],
            "text/plain": [
              "                                                  Review   Rating\n",
              "0      nice hotel expensive parking got good deal sta...  Positif\n",
              "1      ok nothing special charge diamond member hilto...  Negatif\n",
              "2      nice rooms not 4* experience hotel monaco seat...   Netral\n",
              "3      unique, great stay, wonderful time hotel monac...  Positif\n",
              "4      great stay great stay, went seahawk game aweso...  Positif\n",
              "...                                                  ...      ...\n",
              "20486  best kept secret 3rd time staying charm, not 5...  Positif\n",
              "20487  great location price view hotel great quick pl...  Positif\n",
              "20488  ok just looks nice modern outside, desk staff ...  Negatif\n",
              "20489  hotel theft ruined vacation hotel opened sept ...  Negatif\n",
              "20490  people talking, ca n't believe excellent ratin...  Negatif\n",
              "\n",
              "[20491 rows x 2 columns]"
            ]
          },
          "metadata": {
            "tags": []
          },
          "execution_count": 8
        }
      ]
    },
    {
      "cell_type": "code",
      "metadata": {
        "colab": {
          "base_uri": "https://localhost:8080/",
          "height": 540
        },
        "id": "isRV6EuJKlUx",
        "outputId": "223d412f-3bed-4ce8-bffc-08df70a152eb"
      },
      "source": [
        "# visualisasi data kolom Rating\n",
        "plt.figure(figsize=(12,8))\n",
        "df.groupby('Rating').size().plot(kind='bar',y='Rating',legend=True)\n",
        "plt.ylabel('Rating')"
      ],
      "execution_count": null,
      "outputs": [
        {
          "output_type": "execute_result",
          "data": {
            "text/plain": [
              "Text(0, 0.5, 'Rating')"
            ]
          },
          "metadata": {
            "tags": []
          },
          "execution_count": 9
        },
        {
          "output_type": "display_data",
          "data": {
            "image/png": "[encoded data removed]",
            "text/plain": [
              "<Figure size 864x576 with 1 Axes>"
            ]
          },
          "metadata": {
            "tags": [],
            "needs_background": "light"
          }
        }
      ]
    },
    {
      "cell_type": "code",
      "metadata": {
        "id": "j8xtXbHBKnTm"
      },
      "source": [
        "\n",
        "# agar data dapat diproses diubah ke numpy array\n",
        "Review = df[\"Review\"].values\n",
        "labels = df[[\"Rating\"]].values\n",
        "# split dataset validation set menjadi 20% dari total keseluruhan dataset\n",
        "Review_train, labels_train, Review_test, labels_test = train_test_split(Review,labels, test_size = 0.20, random_state = 42)"
      ],
      "execution_count": null,
      "outputs": []
    },
    {
      "cell_type": "code",
      "metadata": {
        "colab": {
          "base_uri": "https://localhost:8080/"
        },
        "id": "u83953e9NqI5",
        "outputId": "3c898ac8-a1a3-44cf-ce97-775fcc1f273f"
      },
      "source": [
        "print(Review_train.shape,Review_test.shape)\n",
        "print(labels_train.shape,labels_test.shape)"
      ],
      "execution_count": null,
      "outputs": [
        {
          "output_type": "stream",
          "text": [
            "(16392,) (16392, 1)\n",
            "(4099,) (4099, 1)\n"
          ],
          "name": "stdout"
        }
      ]
    },
    {
      "cell_type": "code",
      "metadata": {
        "colab": {
          "base_uri": "https://localhost:8080/"
        },
        "id": "glnWmCsONsi5",
        "outputId": "8cdca604-bc42-4aa3-828a-56c4bd745d0d"
      },
      "source": [
        "# tokenizer\n",
        "tokenizer = Tokenizer(num_words=15000, oov_token='<OOV>')\n",
        "tokenizer.fit_on_texts(Review_train)\n",
        "word_index = tokenizer.word_index\n",
        "print('Found %s unique tokens.' % len(word_index))\n",
        "dict(list(word_index.items())[0:10])"
      ],
      "execution_count": null,
      "outputs": [
        {
          "output_type": "stream",
          "text": [
            "Found 46609 unique tokens.\n"
          ],
          "name": "stdout"
        },
        {
          "output_type": "execute_result",
          "data": {
            "text/plain": [
              "{'<OOV>': 1,\n",
              " 'did': 10,\n",
              " 'good': 7,\n",
              " 'great': 5,\n",
              " 'hotel': 2,\n",
              " \"n't\": 6,\n",
              " 'not': 4,\n",
              " 'room': 3,\n",
              " 'staff': 8,\n",
              " 'stay': 9}"
            ]
          },
          "metadata": {
            "tags": []
          },
          "execution_count": 12
        }
      ]
    },
    {
      "cell_type": "code",
      "metadata": {
        "colab": {
          "base_uri": "https://localhost:8080/"
        },
        "id": "ZJQ_SDJNNu6q",
        "outputId": "eb682925-cdbe-41fd-c19f-f4efce5f60c2"
      },
      "source": [
        "max_length = 300\n",
        "pad = 'post'\n",
        "\n",
        "train_seq = tokenizer.texts_to_sequences(Review_train)\n",
        "train_padded = pad_sequences(train_seq, maxlen=300, padding=pad, truncating=pad)\n",
        "\n",
        "validation_seq = tokenizer.texts_to_sequences(labels_train)\n",
        "validation_padded = pad_sequences(validation_seq, maxlen=300, padding=pad, truncating=pad)\n",
        "print('Shape of data tensor:', train_padded.shape)\n",
        "print('Shape of data tensor:', validation_padded.shape)"
      ],
      "execution_count": null,
      "outputs": [
        {
          "output_type": "stream",
          "text": [
            "Shape of data tensor: (16392, 300)\n",
            "Shape of data tensor: (4099, 300)\n"
          ],
          "name": "stdout"
        }
      ]
    },
    {
      "cell_type": "code",
      "metadata": {
        "id": "BoufCAavNwTL"
      },
      "source": [
        "# one hot encoding \n",
        "encode = OneHotEncoder()\n",
        "\n",
        "training_labels = encode.fit_transform(Review_test)\n",
        "validation_labels = encode.transform(labels_test)"
      ],
      "execution_count": null,
      "outputs": []
    },
    {
      "cell_type": "code",
      "metadata": {
        "id": "_rYkkD2ZNyJw"
      },
      "source": [
        "training_labels = training_labels.toarray()\n",
        "validation_labels = validation_labels.toarray()"
      ],
      "execution_count": null,
      "outputs": []
    },
    {
      "cell_type": "code",
      "metadata": {
        "id": "yoOi15_-Nzv1"
      },
      "source": [
        "# callback ReduceLROnPlateau \n",
        "reduce_lr = ReduceLROnPlateau(monitor='val_loss', factor=0.2,\n",
        "                              patience=5, min_lr=0.0001)"
      ],
      "execution_count": null,
      "outputs": []
    },
    {
      "cell_type": "code",
      "metadata": {
        "id": "LC0sM8ISN1Hd"
      },
      "source": [
        "# membuat model\n",
        "model = tf.keras.Sequential([\n",
        "    tf.keras.layers.Embedding(input_dim=75000, output_dim=16),\n",
        "    tf.keras.layers.LSTM(64),\n",
        "    tf.keras.layers.Dense(128, activation='relu'),\n",
        "    tf.keras.layers.Dense(64, activation='relu'),\n",
        "    tf.keras.layers.Dense(3, activation='softmax')\n",
        "])\n",
        "model.compile(loss='categorical_crossentropy',optimizer='adam',metrics=['accuracy'])"
      ],
      "execution_count": null,
      "outputs": []
    },
    {
      "cell_type": "code",
      "metadata": {
        "id": "MlNEKK_qN2vo"
      },
      "source": [
        "# callback ModelCheckPoint dan early stopping \n",
        "check = 'ML-Dicoding-Check'\n",
        "path = F\"/content/drive/MyDrive/SubmissionDicodingPengembanganML/{check}\"\n",
        "\n",
        "\n",
        "checkpoint = tf.keras.callbacks.ModelCheckpoint(path, \n",
        "                                                monitor='val_loss', \n",
        "                                                verbose=2,\n",
        "                                                save_best_only=False, \n",
        "                                                save_weights_only=False, \n",
        "                                                mode='auto', \n",
        "                                                save_freq='epoch', \n",
        "                                                options=None)\n",
        "\n",
        "early = tf.keras.callbacks.EarlyStopping(monitor='val_accuracy',\n",
        "                      min_delta=0,\n",
        "                      patience=40,\n",
        "                      verbose=2,\n",
        "                      mode='auto')"
      ],
      "execution_count": null,
      "outputs": []
    },
    {
      "cell_type": "code",
      "metadata": {
        "colab": {
          "base_uri": "https://localhost:8080/"
        },
        "id": "gcQ7bNE-N7Mr",
        "outputId": "25e34ad1-08ee-41aa-b5c6-a688ae2c74f9"
      },
      "source": [
        "epochs = 120\n",
        "batch_size = 32\n",
        "\n",
        "history = model.fit(train_padded, training_labels, shuffle=True ,\n",
        "                    epochs=epochs, batch_size=batch_size, \n",
        "                    validation_split=0.2,\n",
        "                    callbacks=[checkpoint, early,\n",
        "                    ReduceLROnPlateau(monitor='val_loss', factor=0.2, patience=5, min_lr=0.0001)\n",
        "                              #  EarlyStopping(monitor='val_loss', mode='min', patience=5, verbose=1),\n",
        "                              #  EarlyStopping(monitor='val_accuracy', mode='max', patience=5, verbose=1)\n",
        "                              ])"
      ],
      "execution_count": null,
      "outputs": [
        {
          "output_type": "stream",
          "text": [
            "Epoch 1/120\n",
            "410/410 [==============================] - 81s 192ms/step - loss: 0.7736 - accuracy: 0.7306 - val_loss: 0.7571 - val_accuracy: 0.7399\n",
            "\n",
            "Epoch 00001: saving model to /content/drive/MyDrive/SubmissionDicodingPengembanganML/ML-Dicoding-Check\n"
          ],
          "name": "stdout"
        },
        {
          "output_type": "stream",
          "text": [
            "WARNING:absl:Found untraced functions such as lstm_cell_layer_call_and_return_conditional_losses, lstm_cell_layer_call_fn, lstm_cell_layer_call_fn, lstm_cell_layer_call_and_return_conditional_losses, lstm_cell_layer_call_and_return_conditional_losses while saving (showing 5 of 5). These functions will not be directly callable after loading.\n"
          ],
          "name": "stderr"
        },
        {
          "output_type": "stream",
          "text": [
            "INFO:tensorflow:Assets written to: /content/drive/MyDrive/SubmissionDicodingPengembanganML/ML-Dicoding-Check/assets\n"
          ],
          "name": "stdout"
        },
        {
          "output_type": "stream",
          "text": [
            "INFO:tensorflow:Assets written to: /content/drive/MyDrive/SubmissionDicodingPengembanganML/ML-Dicoding-Check/assets\n"
          ],
          "name": "stderr"
        },
        {
          "output_type": "stream",
          "text": [
            "Epoch 2/120\n",
            "410/410 [==============================] - 78s 190ms/step - loss: 0.7571 - accuracy: 0.7346 - val_loss: 0.7499 - val_accuracy: 0.7405\n",
            "\n",
            "Epoch 00002: saving model to /content/drive/MyDrive/SubmissionDicodingPengembanganML/ML-Dicoding-Check\n"
          ],
          "name": "stdout"
        },
        {
          "output_type": "stream",
          "text": [
            "WARNING:absl:Found untraced functions such as lstm_cell_layer_call_and_return_conditional_losses, lstm_cell_layer_call_fn, lstm_cell_layer_call_fn, lstm_cell_layer_call_and_return_conditional_losses, lstm_cell_layer_call_and_return_conditional_losses while saving (showing 5 of 5). These functions will not be directly callable after loading.\n"
          ],
          "name": "stderr"
        },
        {
          "output_type": "stream",
          "text": [
            "INFO:tensorflow:Assets written to: /content/drive/MyDrive/SubmissionDicodingPengembanganML/ML-Dicoding-Check/assets\n"
          ],
          "name": "stdout"
        },
        {
          "output_type": "stream",
          "text": [
            "INFO:tensorflow:Assets written to: /content/drive/MyDrive/SubmissionDicodingPengembanganML/ML-Dicoding-Check/assets\n"
          ],
          "name": "stderr"
        },
        {
          "output_type": "stream",
          "text": [
            "Epoch 3/120\n",
            "410/410 [==============================] - 78s 191ms/step - loss: 0.7437 - accuracy: 0.7419 - val_loss: 0.7541 - val_accuracy: 0.7389\n",
            "\n",
            "Epoch 00003: saving model to /content/drive/MyDrive/SubmissionDicodingPengembanganML/ML-Dicoding-Check\n"
          ],
          "name": "stdout"
        },
        {
          "output_type": "stream",
          "text": [
            "WARNING:absl:Found untraced functions such as lstm_cell_layer_call_and_return_conditional_losses, lstm_cell_layer_call_fn, lstm_cell_layer_call_fn, lstm_cell_layer_call_and_return_conditional_losses, lstm_cell_layer_call_and_return_conditional_losses while saving (showing 5 of 5). These functions will not be directly callable after loading.\n"
          ],
          "name": "stderr"
        },
        {
          "output_type": "stream",
          "text": [
            "INFO:tensorflow:Assets written to: /content/drive/MyDrive/SubmissionDicodingPengembanganML/ML-Dicoding-Check/assets\n"
          ],
          "name": "stdout"
        },
        {
          "output_type": "stream",
          "text": [
            "INFO:tensorflow:Assets written to: /content/drive/MyDrive/SubmissionDicodingPengembanganML/ML-Dicoding-Check/assets\n"
          ],
          "name": "stderr"
        },
        {
          "output_type": "stream",
          "text": [
            "Epoch 4/120\n",
            "410/410 [==============================] - 78s 190ms/step - loss: 0.7386 - accuracy: 0.7442 - val_loss: 0.7516 - val_accuracy: 0.7380\n",
            "\n",
            "Epoch 00004: saving model to /content/drive/MyDrive/SubmissionDicodingPengembanganML/ML-Dicoding-Check\n"
          ],
          "name": "stdout"
        },
        {
          "output_type": "stream",
          "text": [
            "WARNING:absl:Found untraced functions such as lstm_cell_layer_call_and_return_conditional_losses, lstm_cell_layer_call_fn, lstm_cell_layer_call_fn, lstm_cell_layer_call_and_return_conditional_losses, lstm_cell_layer_call_and_return_conditional_losses while saving (showing 5 of 5). These functions will not be directly callable after loading.\n"
          ],
          "name": "stderr"
        },
        {
          "output_type": "stream",
          "text": [
            "INFO:tensorflow:Assets written to: /content/drive/MyDrive/SubmissionDicodingPengembanganML/ML-Dicoding-Check/assets\n"
          ],
          "name": "stdout"
        },
        {
          "output_type": "stream",
          "text": [
            "INFO:tensorflow:Assets written to: /content/drive/MyDrive/SubmissionDicodingPengembanganML/ML-Dicoding-Check/assets\n"
          ],
          "name": "stderr"
        },
        {
          "output_type": "stream",
          "text": [
            "Epoch 5/120\n",
            "410/410 [==============================] - 78s 190ms/step - loss: 0.7371 - accuracy: 0.7393 - val_loss: 0.6931 - val_accuracy: 0.7399\n",
            "\n",
            "Epoch 00005: saving model to /content/drive/MyDrive/SubmissionDicodingPengembanganML/ML-Dicoding-Check\n"
          ],
          "name": "stdout"
        },
        {
          "output_type": "stream",
          "text": [
            "WARNING:absl:Found untraced functions such as lstm_cell_layer_call_and_return_conditional_losses, lstm_cell_layer_call_fn, lstm_cell_layer_call_fn, lstm_cell_layer_call_and_return_conditional_losses, lstm_cell_layer_call_and_return_conditional_losses while saving (showing 5 of 5). These functions will not be directly callable after loading.\n"
          ],
          "name": "stderr"
        },
        {
          "output_type": "stream",
          "text": [
            "INFO:tensorflow:Assets written to: /content/drive/MyDrive/SubmissionDicodingPengembanganML/ML-Dicoding-Check/assets\n"
          ],
          "name": "stdout"
        },
        {
          "output_type": "stream",
          "text": [
            "INFO:tensorflow:Assets written to: /content/drive/MyDrive/SubmissionDicodingPengembanganML/ML-Dicoding-Check/assets\n"
          ],
          "name": "stderr"
        },
        {
          "output_type": "stream",
          "text": [
            "Epoch 6/120\n",
            "410/410 [==============================] - 79s 193ms/step - loss: 0.6942 - accuracy: 0.7340 - val_loss: 0.6855 - val_accuracy: 0.7399\n",
            "\n",
            "Epoch 00006: saving model to /content/drive/MyDrive/SubmissionDicodingPengembanganML/ML-Dicoding-Check\n"
          ],
          "name": "stdout"
        },
        {
          "output_type": "stream",
          "text": [
            "WARNING:absl:Found untraced functions such as lstm_cell_layer_call_and_return_conditional_losses, lstm_cell_layer_call_fn, lstm_cell_layer_call_fn, lstm_cell_layer_call_and_return_conditional_losses, lstm_cell_layer_call_and_return_conditional_losses while saving (showing 5 of 5). These functions will not be directly callable after loading.\n"
          ],
          "name": "stderr"
        },
        {
          "output_type": "stream",
          "text": [
            "INFO:tensorflow:Assets written to: /content/drive/MyDrive/SubmissionDicodingPengembanganML/ML-Dicoding-Check/assets\n"
          ],
          "name": "stdout"
        },
        {
          "output_type": "stream",
          "text": [
            "INFO:tensorflow:Assets written to: /content/drive/MyDrive/SubmissionDicodingPengembanganML/ML-Dicoding-Check/assets\n"
          ],
          "name": "stderr"
        },
        {
          "output_type": "stream",
          "text": [
            "Epoch 7/120\n",
            "410/410 [==============================] - 80s 196ms/step - loss: 0.6837 - accuracy: 0.7364 - val_loss: 0.6783 - val_accuracy: 0.7380\n",
            "\n",
            "Epoch 00007: saving model to /content/drive/MyDrive/SubmissionDicodingPengembanganML/ML-Dicoding-Check\n"
          ],
          "name": "stdout"
        },
        {
          "output_type": "stream",
          "text": [
            "WARNING:absl:Found untraced functions such as lstm_cell_layer_call_and_return_conditional_losses, lstm_cell_layer_call_fn, lstm_cell_layer_call_fn, lstm_cell_layer_call_and_return_conditional_losses, lstm_cell_layer_call_and_return_conditional_losses while saving (showing 5 of 5). These functions will not be directly callable after loading.\n"
          ],
          "name": "stderr"
        },
        {
          "output_type": "stream",
          "text": [
            "INFO:tensorflow:Assets written to: /content/drive/MyDrive/SubmissionDicodingPengembanganML/ML-Dicoding-Check/assets\n"
          ],
          "name": "stdout"
        },
        {
          "output_type": "stream",
          "text": [
            "INFO:tensorflow:Assets written to: /content/drive/MyDrive/SubmissionDicodingPengembanganML/ML-Dicoding-Check/assets\n"
          ],
          "name": "stderr"
        },
        {
          "output_type": "stream",
          "text": [
            "Epoch 8/120\n",
            "410/410 [==============================] - 79s 192ms/step - loss: 0.6753 - accuracy: 0.7365 - val_loss: 0.6723 - val_accuracy: 0.7383\n",
            "\n",
            "Epoch 00008: saving model to /content/drive/MyDrive/SubmissionDicodingPengembanganML/ML-Dicoding-Check\n"
          ],
          "name": "stdout"
        },
        {
          "output_type": "stream",
          "text": [
            "WARNING:absl:Found untraced functions such as lstm_cell_layer_call_and_return_conditional_losses, lstm_cell_layer_call_fn, lstm_cell_layer_call_fn, lstm_cell_layer_call_and_return_conditional_losses, lstm_cell_layer_call_and_return_conditional_losses while saving (showing 5 of 5). These functions will not be directly callable after loading.\n"
          ],
          "name": "stderr"
        },
        {
          "output_type": "stream",
          "text": [
            "INFO:tensorflow:Assets written to: /content/drive/MyDrive/SubmissionDicodingPengembanganML/ML-Dicoding-Check/assets\n"
          ],
          "name": "stdout"
        },
        {
          "output_type": "stream",
          "text": [
            "INFO:tensorflow:Assets written to: /content/drive/MyDrive/SubmissionDicodingPengembanganML/ML-Dicoding-Check/assets\n"
          ],
          "name": "stderr"
        },
        {
          "output_type": "stream",
          "text": [
            "Epoch 9/120\n",
            "410/410 [==============================] - 78s 191ms/step - loss: 0.6726 - accuracy: 0.7358 - val_loss: 0.6737 - val_accuracy: 0.7383\n",
            "\n",
            "Epoch 00009: saving model to /content/drive/MyDrive/SubmissionDicodingPengembanganML/ML-Dicoding-Check\n"
          ],
          "name": "stdout"
        },
        {
          "output_type": "stream",
          "text": [
            "WARNING:absl:Found untraced functions such as lstm_cell_layer_call_and_return_conditional_losses, lstm_cell_layer_call_fn, lstm_cell_layer_call_fn, lstm_cell_layer_call_and_return_conditional_losses, lstm_cell_layer_call_and_return_conditional_losses while saving (showing 5 of 5). These functions will not be directly callable after loading.\n"
          ],
          "name": "stderr"
        },
        {
          "output_type": "stream",
          "text": [
            "INFO:tensorflow:Assets written to: /content/drive/MyDrive/SubmissionDicodingPengembanganML/ML-Dicoding-Check/assets\n"
          ],
          "name": "stdout"
        },
        {
          "output_type": "stream",
          "text": [
            "INFO:tensorflow:Assets written to: /content/drive/MyDrive/SubmissionDicodingPengembanganML/ML-Dicoding-Check/assets\n"
          ],
          "name": "stderr"
        },
        {
          "output_type": "stream",
          "text": [
            "Epoch 10/120\n",
            "410/410 [==============================] - 78s 191ms/step - loss: 0.6667 - accuracy: 0.7429 - val_loss: 0.7036 - val_accuracy: 0.7396\n",
            "\n",
            "Epoch 00010: saving model to /content/drive/MyDrive/SubmissionDicodingPengembanganML/ML-Dicoding-Check\n"
          ],
          "name": "stdout"
        },
        {
          "output_type": "stream",
          "text": [
            "WARNING:absl:Found untraced functions such as lstm_cell_layer_call_and_return_conditional_losses, lstm_cell_layer_call_fn, lstm_cell_layer_call_fn, lstm_cell_layer_call_and_return_conditional_losses, lstm_cell_layer_call_and_return_conditional_losses while saving (showing 5 of 5). These functions will not be directly callable after loading.\n"
          ],
          "name": "stderr"
        },
        {
          "output_type": "stream",
          "text": [
            "INFO:tensorflow:Assets written to: /content/drive/MyDrive/SubmissionDicodingPengembanganML/ML-Dicoding-Check/assets\n"
          ],
          "name": "stdout"
        },
        {
          "output_type": "stream",
          "text": [
            "INFO:tensorflow:Assets written to: /content/drive/MyDrive/SubmissionDicodingPengembanganML/ML-Dicoding-Check/assets\n"
          ],
          "name": "stderr"
        },
        {
          "output_type": "stream",
          "text": [
            "Epoch 11/120\n",
            "410/410 [==============================] - 78s 190ms/step - loss: 0.6689 - accuracy: 0.7461 - val_loss: 0.7233 - val_accuracy: 0.7368\n",
            "\n",
            "Epoch 00011: saving model to /content/drive/MyDrive/SubmissionDicodingPengembanganML/ML-Dicoding-Check\n"
          ],
          "name": "stdout"
        },
        {
          "output_type": "stream",
          "text": [
            "WARNING:absl:Found untraced functions such as lstm_cell_layer_call_and_return_conditional_losses, lstm_cell_layer_call_fn, lstm_cell_layer_call_fn, lstm_cell_layer_call_and_return_conditional_losses, lstm_cell_layer_call_and_return_conditional_losses while saving (showing 5 of 5). These functions will not be directly callable after loading.\n"
          ],
          "name": "stderr"
        },
        {
          "output_type": "stream",
          "text": [
            "INFO:tensorflow:Assets written to: /content/drive/MyDrive/SubmissionDicodingPengembanganML/ML-Dicoding-Check/assets\n"
          ],
          "name": "stdout"
        },
        {
          "output_type": "stream",
          "text": [
            "INFO:tensorflow:Assets written to: /content/drive/MyDrive/SubmissionDicodingPengembanganML/ML-Dicoding-Check/assets\n"
          ],
          "name": "stderr"
        },
        {
          "output_type": "stream",
          "text": [
            "Epoch 12/120\n",
            "410/410 [==============================] - 80s 194ms/step - loss: 0.6657 - accuracy: 0.7476 - val_loss: 0.7258 - val_accuracy: 0.7353\n",
            "\n",
            "Epoch 00012: saving model to /content/drive/MyDrive/SubmissionDicodingPengembanganML/ML-Dicoding-Check\n"
          ],
          "name": "stdout"
        },
        {
          "output_type": "stream",
          "text": [
            "WARNING:absl:Found untraced functions such as lstm_cell_layer_call_and_return_conditional_losses, lstm_cell_layer_call_fn, lstm_cell_layer_call_fn, lstm_cell_layer_call_and_return_conditional_losses, lstm_cell_layer_call_and_return_conditional_losses while saving (showing 5 of 5). These functions will not be directly callable after loading.\n"
          ],
          "name": "stderr"
        },
        {
          "output_type": "stream",
          "text": [
            "INFO:tensorflow:Assets written to: /content/drive/MyDrive/SubmissionDicodingPengembanganML/ML-Dicoding-Check/assets\n"
          ],
          "name": "stdout"
        },
        {
          "output_type": "stream",
          "text": [
            "INFO:tensorflow:Assets written to: /content/drive/MyDrive/SubmissionDicodingPengembanganML/ML-Dicoding-Check/assets\n"
          ],
          "name": "stderr"
        },
        {
          "output_type": "stream",
          "text": [
            "Epoch 13/120\n",
            "410/410 [==============================] - 78s 191ms/step - loss: 0.6631 - accuracy: 0.7488 - val_loss: 0.7372 - val_accuracy: 0.7362\n",
            "\n",
            "Epoch 00013: saving model to /content/drive/MyDrive/SubmissionDicodingPengembanganML/ML-Dicoding-Check\n"
          ],
          "name": "stdout"
        },
        {
          "output_type": "stream",
          "text": [
            "WARNING:absl:Found untraced functions such as lstm_cell_layer_call_and_return_conditional_losses, lstm_cell_layer_call_fn, lstm_cell_layer_call_fn, lstm_cell_layer_call_and_return_conditional_losses, lstm_cell_layer_call_and_return_conditional_losses while saving (showing 5 of 5). These functions will not be directly callable after loading.\n"
          ],
          "name": "stderr"
        },
        {
          "output_type": "stream",
          "text": [
            "INFO:tensorflow:Assets written to: /content/drive/MyDrive/SubmissionDicodingPengembanganML/ML-Dicoding-Check/assets\n"
          ],
          "name": "stdout"
        },
        {
          "output_type": "stream",
          "text": [
            "INFO:tensorflow:Assets written to: /content/drive/MyDrive/SubmissionDicodingPengembanganML/ML-Dicoding-Check/assets\n"
          ],
          "name": "stderr"
        },
        {
          "output_type": "stream",
          "text": [
            "Epoch 14/120\n",
            "410/410 [==============================] - 79s 194ms/step - loss: 0.6703 - accuracy: 0.7500 - val_loss: 0.8017 - val_accuracy: 0.7344\n",
            "\n",
            "Epoch 00014: saving model to /content/drive/MyDrive/SubmissionDicodingPengembanganML/ML-Dicoding-Check\n"
          ],
          "name": "stdout"
        },
        {
          "output_type": "stream",
          "text": [
            "WARNING:absl:Found untraced functions such as lstm_cell_layer_call_and_return_conditional_losses, lstm_cell_layer_call_fn, lstm_cell_layer_call_fn, lstm_cell_layer_call_and_return_conditional_losses, lstm_cell_layer_call_and_return_conditional_losses while saving (showing 5 of 5). These functions will not be directly callable after loading.\n"
          ],
          "name": "stderr"
        },
        {
          "output_type": "stream",
          "text": [
            "INFO:tensorflow:Assets written to: /content/drive/MyDrive/SubmissionDicodingPengembanganML/ML-Dicoding-Check/assets\n"
          ],
          "name": "stdout"
        },
        {
          "output_type": "stream",
          "text": [
            "INFO:tensorflow:Assets written to: /content/drive/MyDrive/SubmissionDicodingPengembanganML/ML-Dicoding-Check/assets\n"
          ],
          "name": "stderr"
        },
        {
          "output_type": "stream",
          "text": [
            "Epoch 15/120\n",
            "410/410 [==============================] - 78s 191ms/step - loss: 0.6949 - accuracy: 0.7510 - val_loss: 0.8080 - val_accuracy: 0.7338\n",
            "\n",
            "Epoch 00015: saving model to /content/drive/MyDrive/SubmissionDicodingPengembanganML/ML-Dicoding-Check\n"
          ],
          "name": "stdout"
        },
        {
          "output_type": "stream",
          "text": [
            "WARNING:absl:Found untraced functions such as lstm_cell_layer_call_and_return_conditional_losses, lstm_cell_layer_call_fn, lstm_cell_layer_call_fn, lstm_cell_layer_call_and_return_conditional_losses, lstm_cell_layer_call_and_return_conditional_losses while saving (showing 5 of 5). These functions will not be directly callable after loading.\n"
          ],
          "name": "stderr"
        },
        {
          "output_type": "stream",
          "text": [
            "INFO:tensorflow:Assets written to: /content/drive/MyDrive/SubmissionDicodingPengembanganML/ML-Dicoding-Check/assets\n"
          ],
          "name": "stdout"
        },
        {
          "output_type": "stream",
          "text": [
            "INFO:tensorflow:Assets written to: /content/drive/MyDrive/SubmissionDicodingPengembanganML/ML-Dicoding-Check/assets\n"
          ],
          "name": "stderr"
        },
        {
          "output_type": "stream",
          "text": [
            "Epoch 16/120\n",
            "410/410 [==============================] - 78s 190ms/step - loss: 0.6910 - accuracy: 0.7516 - val_loss: 0.8209 - val_accuracy: 0.7328\n",
            "\n",
            "Epoch 00016: saving model to /content/drive/MyDrive/SubmissionDicodingPengembanganML/ML-Dicoding-Check\n"
          ],
          "name": "stdout"
        },
        {
          "output_type": "stream",
          "text": [
            "WARNING:absl:Found untraced functions such as lstm_cell_layer_call_and_return_conditional_losses, lstm_cell_layer_call_fn, lstm_cell_layer_call_fn, lstm_cell_layer_call_and_return_conditional_losses, lstm_cell_layer_call_and_return_conditional_losses while saving (showing 5 of 5). These functions will not be directly callable after loading.\n"
          ],
          "name": "stderr"
        },
        {
          "output_type": "stream",
          "text": [
            "INFO:tensorflow:Assets written to: /content/drive/MyDrive/SubmissionDicodingPengembanganML/ML-Dicoding-Check/assets\n"
          ],
          "name": "stdout"
        },
        {
          "output_type": "stream",
          "text": [
            "INFO:tensorflow:Assets written to: /content/drive/MyDrive/SubmissionDicodingPengembanganML/ML-Dicoding-Check/assets\n"
          ],
          "name": "stderr"
        },
        {
          "output_type": "stream",
          "text": [
            "Epoch 17/120\n",
            "410/410 [==============================] - 79s 192ms/step - loss: 0.6878 - accuracy: 0.7522 - val_loss: 0.8223 - val_accuracy: 0.7332\n",
            "\n",
            "Epoch 00017: saving model to /content/drive/MyDrive/SubmissionDicodingPengembanganML/ML-Dicoding-Check\n"
          ],
          "name": "stdout"
        },
        {
          "output_type": "stream",
          "text": [
            "WARNING:absl:Found untraced functions such as lstm_cell_layer_call_and_return_conditional_losses, lstm_cell_layer_call_fn, lstm_cell_layer_call_fn, lstm_cell_layer_call_and_return_conditional_losses, lstm_cell_layer_call_and_return_conditional_losses while saving (showing 5 of 5). These functions will not be directly callable after loading.\n"
          ],
          "name": "stderr"
        },
        {
          "output_type": "stream",
          "text": [
            "INFO:tensorflow:Assets written to: /content/drive/MyDrive/SubmissionDicodingPengembanganML/ML-Dicoding-Check/assets\n"
          ],
          "name": "stdout"
        },
        {
          "output_type": "stream",
          "text": [
            "INFO:tensorflow:Assets written to: /content/drive/MyDrive/SubmissionDicodingPengembanganML/ML-Dicoding-Check/assets\n"
          ],
          "name": "stderr"
        },
        {
          "output_type": "stream",
          "text": [
            "Epoch 18/120\n",
            "410/410 [==============================] - 80s 194ms/step - loss: 0.6859 - accuracy: 0.7523 - val_loss: 0.7996 - val_accuracy: 0.7356\n",
            "\n",
            "Epoch 00018: saving model to /content/drive/MyDrive/SubmissionDicodingPengembanganML/ML-Dicoding-Check\n"
          ],
          "name": "stdout"
        },
        {
          "output_type": "stream",
          "text": [
            "WARNING:absl:Found untraced functions such as lstm_cell_layer_call_and_return_conditional_losses, lstm_cell_layer_call_fn, lstm_cell_layer_call_fn, lstm_cell_layer_call_and_return_conditional_losses, lstm_cell_layer_call_and_return_conditional_losses while saving (showing 5 of 5). These functions will not be directly callable after loading.\n"
          ],
          "name": "stderr"
        },
        {
          "output_type": "stream",
          "text": [
            "INFO:tensorflow:Assets written to: /content/drive/MyDrive/SubmissionDicodingPengembanganML/ML-Dicoding-Check/assets\n"
          ],
          "name": "stdout"
        },
        {
          "output_type": "stream",
          "text": [
            "INFO:tensorflow:Assets written to: /content/drive/MyDrive/SubmissionDicodingPengembanganML/ML-Dicoding-Check/assets\n"
          ],
          "name": "stderr"
        },
        {
          "output_type": "stream",
          "text": [
            "Epoch 19/120\n",
            "410/410 [==============================] - 79s 192ms/step - loss: 0.6814 - accuracy: 0.7533 - val_loss: 0.8044 - val_accuracy: 0.7405\n",
            "\n",
            "Epoch 00019: saving model to /content/drive/MyDrive/SubmissionDicodingPengembanganML/ML-Dicoding-Check\n"
          ],
          "name": "stdout"
        },
        {
          "output_type": "stream",
          "text": [
            "WARNING:absl:Found untraced functions such as lstm_cell_layer_call_and_return_conditional_losses, lstm_cell_layer_call_fn, lstm_cell_layer_call_fn, lstm_cell_layer_call_and_return_conditional_losses, lstm_cell_layer_call_and_return_conditional_losses while saving (showing 5 of 5). These functions will not be directly callable after loading.\n"
          ],
          "name": "stderr"
        },
        {
          "output_type": "stream",
          "text": [
            "INFO:tensorflow:Assets written to: /content/drive/MyDrive/SubmissionDicodingPengembanganML/ML-Dicoding-Check/assets\n"
          ],
          "name": "stdout"
        },
        {
          "output_type": "stream",
          "text": [
            "INFO:tensorflow:Assets written to: /content/drive/MyDrive/SubmissionDicodingPengembanganML/ML-Dicoding-Check/assets\n"
          ],
          "name": "stderr"
        },
        {
          "output_type": "stream",
          "text": [
            "Epoch 20/120\n",
            "410/410 [==============================] - 80s 194ms/step - loss: 0.6446 - accuracy: 0.7624 - val_loss: 0.7430 - val_accuracy: 0.7255\n",
            "\n",
            "Epoch 00020: saving model to /content/drive/MyDrive/SubmissionDicodingPengembanganML/ML-Dicoding-Check\n"
          ],
          "name": "stdout"
        },
        {
          "output_type": "stream",
          "text": [
            "WARNING:absl:Found untraced functions such as lstm_cell_layer_call_and_return_conditional_losses, lstm_cell_layer_call_fn, lstm_cell_layer_call_fn, lstm_cell_layer_call_and_return_conditional_losses, lstm_cell_layer_call_and_return_conditional_losses while saving (showing 5 of 5). These functions will not be directly callable after loading.\n"
          ],
          "name": "stderr"
        },
        {
          "output_type": "stream",
          "text": [
            "INFO:tensorflow:Assets written to: /content/drive/MyDrive/SubmissionDicodingPengembanganML/ML-Dicoding-Check/assets\n"
          ],
          "name": "stdout"
        },
        {
          "output_type": "stream",
          "text": [
            "INFO:tensorflow:Assets written to: /content/drive/MyDrive/SubmissionDicodingPengembanganML/ML-Dicoding-Check/assets\n"
          ],
          "name": "stderr"
        },
        {
          "output_type": "stream",
          "text": [
            "Epoch 21/120\n",
            "410/410 [==============================] - 79s 193ms/step - loss: 0.5947 - accuracy: 0.7762 - val_loss: 0.6815 - val_accuracy: 0.7533\n",
            "\n",
            "Epoch 00021: saving model to /content/drive/MyDrive/SubmissionDicodingPengembanganML/ML-Dicoding-Check\n"
          ],
          "name": "stdout"
        },
        {
          "output_type": "stream",
          "text": [
            "WARNING:absl:Found untraced functions such as lstm_cell_layer_call_and_return_conditional_losses, lstm_cell_layer_call_fn, lstm_cell_layer_call_fn, lstm_cell_layer_call_and_return_conditional_losses, lstm_cell_layer_call_and_return_conditional_losses while saving (showing 5 of 5). These functions will not be directly callable after loading.\n"
          ],
          "name": "stderr"
        },
        {
          "output_type": "stream",
          "text": [
            "INFO:tensorflow:Assets written to: /content/drive/MyDrive/SubmissionDicodingPengembanganML/ML-Dicoding-Check/assets\n"
          ],
          "name": "stdout"
        },
        {
          "output_type": "stream",
          "text": [
            "INFO:tensorflow:Assets written to: /content/drive/MyDrive/SubmissionDicodingPengembanganML/ML-Dicoding-Check/assets\n"
          ],
          "name": "stderr"
        },
        {
          "output_type": "stream",
          "text": [
            "Epoch 22/120\n",
            "410/410 [==============================] - 79s 192ms/step - loss: 0.5542 - accuracy: 0.7995 - val_loss: 0.6774 - val_accuracy: 0.7880\n",
            "\n",
            "Epoch 00022: saving model to /content/drive/MyDrive/SubmissionDicodingPengembanganML/ML-Dicoding-Check\n"
          ],
          "name": "stdout"
        },
        {
          "output_type": "stream",
          "text": [
            "WARNING:absl:Found untraced functions such as lstm_cell_layer_call_and_return_conditional_losses, lstm_cell_layer_call_fn, lstm_cell_layer_call_fn, lstm_cell_layer_call_and_return_conditional_losses, lstm_cell_layer_call_and_return_conditional_losses while saving (showing 5 of 5). These functions will not be directly callable after loading.\n"
          ],
          "name": "stderr"
        },
        {
          "output_type": "stream",
          "text": [
            "INFO:tensorflow:Assets written to: /content/drive/MyDrive/SubmissionDicodingPengembanganML/ML-Dicoding-Check/assets\n"
          ],
          "name": "stdout"
        },
        {
          "output_type": "stream",
          "text": [
            "INFO:tensorflow:Assets written to: /content/drive/MyDrive/SubmissionDicodingPengembanganML/ML-Dicoding-Check/assets\n"
          ],
          "name": "stderr"
        },
        {
          "output_type": "stream",
          "text": [
            "Epoch 23/120\n",
            "410/410 [==============================] - 79s 192ms/step - loss: 0.5310 - accuracy: 0.8066 - val_loss: 0.6254 - val_accuracy: 0.7914\n",
            "\n",
            "Epoch 00023: saving model to /content/drive/MyDrive/SubmissionDicodingPengembanganML/ML-Dicoding-Check\n"
          ],
          "name": "stdout"
        },
        {
          "output_type": "stream",
          "text": [
            "WARNING:absl:Found untraced functions such as lstm_cell_layer_call_and_return_conditional_losses, lstm_cell_layer_call_fn, lstm_cell_layer_call_fn, lstm_cell_layer_call_and_return_conditional_losses, lstm_cell_layer_call_and_return_conditional_losses while saving (showing 5 of 5). These functions will not be directly callable after loading.\n"
          ],
          "name": "stderr"
        },
        {
          "output_type": "stream",
          "text": [
            "INFO:tensorflow:Assets written to: /content/drive/MyDrive/SubmissionDicodingPengembanganML/ML-Dicoding-Check/assets\n"
          ],
          "name": "stdout"
        },
        {
          "output_type": "stream",
          "text": [
            "INFO:tensorflow:Assets written to: /content/drive/MyDrive/SubmissionDicodingPengembanganML/ML-Dicoding-Check/assets\n"
          ],
          "name": "stderr"
        },
        {
          "output_type": "stream",
          "text": [
            "Epoch 24/120\n",
            "410/410 [==============================] - 80s 195ms/step - loss: 0.5081 - accuracy: 0.8198 - val_loss: 0.6192 - val_accuracy: 0.7951\n",
            "\n",
            "Epoch 00024: saving model to /content/drive/MyDrive/SubmissionDicodingPengembanganML/ML-Dicoding-Check\n"
          ],
          "name": "stdout"
        },
        {
          "output_type": "stream",
          "text": [
            "WARNING:absl:Found untraced functions such as lstm_cell_layer_call_and_return_conditional_losses, lstm_cell_layer_call_fn, lstm_cell_layer_call_fn, lstm_cell_layer_call_and_return_conditional_losses, lstm_cell_layer_call_and_return_conditional_losses while saving (showing 5 of 5). These functions will not be directly callable after loading.\n"
          ],
          "name": "stderr"
        },
        {
          "output_type": "stream",
          "text": [
            "INFO:tensorflow:Assets written to: /content/drive/MyDrive/SubmissionDicodingPengembanganML/ML-Dicoding-Check/assets\n"
          ],
          "name": "stdout"
        },
        {
          "output_type": "stream",
          "text": [
            "INFO:tensorflow:Assets written to: /content/drive/MyDrive/SubmissionDicodingPengembanganML/ML-Dicoding-Check/assets\n"
          ],
          "name": "stderr"
        },
        {
          "output_type": "stream",
          "text": [
            "Epoch 25/120\n",
            "410/410 [==============================] - 80s 194ms/step - loss: 0.4986 - accuracy: 0.8280 - val_loss: 0.5988 - val_accuracy: 0.8015\n",
            "\n",
            "Epoch 00025: saving model to /content/drive/MyDrive/SubmissionDicodingPengembanganML/ML-Dicoding-Check\n"
          ],
          "name": "stdout"
        },
        {
          "output_type": "stream",
          "text": [
            "WARNING:absl:Found untraced functions such as lstm_cell_layer_call_and_return_conditional_losses, lstm_cell_layer_call_fn, lstm_cell_layer_call_fn, lstm_cell_layer_call_and_return_conditional_losses, lstm_cell_layer_call_and_return_conditional_losses while saving (showing 5 of 5). These functions will not be directly callable after loading.\n"
          ],
          "name": "stderr"
        },
        {
          "output_type": "stream",
          "text": [
            "INFO:tensorflow:Assets written to: /content/drive/MyDrive/SubmissionDicodingPengembanganML/ML-Dicoding-Check/assets\n"
          ],
          "name": "stdout"
        },
        {
          "output_type": "stream",
          "text": [
            "INFO:tensorflow:Assets written to: /content/drive/MyDrive/SubmissionDicodingPengembanganML/ML-Dicoding-Check/assets\n"
          ],
          "name": "stderr"
        },
        {
          "output_type": "stream",
          "text": [
            "Epoch 26/120\n",
            "410/410 [==============================] - 78s 190ms/step - loss: 0.4841 - accuracy: 0.8316 - val_loss: 0.5968 - val_accuracy: 0.8021\n",
            "\n",
            "Epoch 00026: saving model to /content/drive/MyDrive/SubmissionDicodingPengembanganML/ML-Dicoding-Check\n"
          ],
          "name": "stdout"
        },
        {
          "output_type": "stream",
          "text": [
            "WARNING:absl:Found untraced functions such as lstm_cell_layer_call_and_return_conditional_losses, lstm_cell_layer_call_fn, lstm_cell_layer_call_fn, lstm_cell_layer_call_and_return_conditional_losses, lstm_cell_layer_call_and_return_conditional_losses while saving (showing 5 of 5). These functions will not be directly callable after loading.\n"
          ],
          "name": "stderr"
        },
        {
          "output_type": "stream",
          "text": [
            "INFO:tensorflow:Assets written to: /content/drive/MyDrive/SubmissionDicodingPengembanganML/ML-Dicoding-Check/assets\n"
          ],
          "name": "stdout"
        },
        {
          "output_type": "stream",
          "text": [
            "INFO:tensorflow:Assets written to: /content/drive/MyDrive/SubmissionDicodingPengembanganML/ML-Dicoding-Check/assets\n"
          ],
          "name": "stderr"
        },
        {
          "output_type": "stream",
          "text": [
            "Epoch 27/120\n",
            "410/410 [==============================] - 78s 191ms/step - loss: 0.4735 - accuracy: 0.8369 - val_loss: 0.5776 - val_accuracy: 0.8094\n",
            "\n",
            "Epoch 00027: saving model to /content/drive/MyDrive/SubmissionDicodingPengembanganML/ML-Dicoding-Check\n"
          ],
          "name": "stdout"
        },
        {
          "output_type": "stream",
          "text": [
            "WARNING:absl:Found untraced functions such as lstm_cell_layer_call_and_return_conditional_losses, lstm_cell_layer_call_fn, lstm_cell_layer_call_fn, lstm_cell_layer_call_and_return_conditional_losses, lstm_cell_layer_call_and_return_conditional_losses while saving (showing 5 of 5). These functions will not be directly callable after loading.\n"
          ],
          "name": "stderr"
        },
        {
          "output_type": "stream",
          "text": [
            "INFO:tensorflow:Assets written to: /content/drive/MyDrive/SubmissionDicodingPengembanganML/ML-Dicoding-Check/assets\n"
          ],
          "name": "stdout"
        },
        {
          "output_type": "stream",
          "text": [
            "INFO:tensorflow:Assets written to: /content/drive/MyDrive/SubmissionDicodingPengembanganML/ML-Dicoding-Check/assets\n"
          ],
          "name": "stderr"
        },
        {
          "output_type": "stream",
          "text": [
            "Epoch 28/120\n",
            "410/410 [==============================] - 78s 191ms/step - loss: 0.4620 - accuracy: 0.8418 - val_loss: 0.5673 - val_accuracy: 0.8109\n",
            "\n",
            "Epoch 00028: saving model to /content/drive/MyDrive/SubmissionDicodingPengembanganML/ML-Dicoding-Check\n"
          ],
          "name": "stdout"
        },
        {
          "output_type": "stream",
          "text": [
            "WARNING:absl:Found untraced functions such as lstm_cell_layer_call_and_return_conditional_losses, lstm_cell_layer_call_fn, lstm_cell_layer_call_fn, lstm_cell_layer_call_and_return_conditional_losses, lstm_cell_layer_call_and_return_conditional_losses while saving (showing 5 of 5). These functions will not be directly callable after loading.\n"
          ],
          "name": "stderr"
        },
        {
          "output_type": "stream",
          "text": [
            "INFO:tensorflow:Assets written to: /content/drive/MyDrive/SubmissionDicodingPengembanganML/ML-Dicoding-Check/assets\n"
          ],
          "name": "stdout"
        },
        {
          "output_type": "stream",
          "text": [
            "INFO:tensorflow:Assets written to: /content/drive/MyDrive/SubmissionDicodingPengembanganML/ML-Dicoding-Check/assets\n"
          ],
          "name": "stderr"
        },
        {
          "output_type": "stream",
          "text": [
            "Epoch 29/120\n",
            "410/410 [==============================] - 79s 193ms/step - loss: 0.4556 - accuracy: 0.8450 - val_loss: 0.5648 - val_accuracy: 0.8152\n",
            "\n",
            "Epoch 00029: saving model to /content/drive/MyDrive/SubmissionDicodingPengembanganML/ML-Dicoding-Check\n"
          ],
          "name": "stdout"
        },
        {
          "output_type": "stream",
          "text": [
            "WARNING:absl:Found untraced functions such as lstm_cell_layer_call_and_return_conditional_losses, lstm_cell_layer_call_fn, lstm_cell_layer_call_fn, lstm_cell_layer_call_and_return_conditional_losses, lstm_cell_layer_call_and_return_conditional_losses while saving (showing 5 of 5). These functions will not be directly callable after loading.\n"
          ],
          "name": "stderr"
        },
        {
          "output_type": "stream",
          "text": [
            "INFO:tensorflow:Assets written to: /content/drive/MyDrive/SubmissionDicodingPengembanganML/ML-Dicoding-Check/assets\n"
          ],
          "name": "stdout"
        },
        {
          "output_type": "stream",
          "text": [
            "INFO:tensorflow:Assets written to: /content/drive/MyDrive/SubmissionDicodingPengembanganML/ML-Dicoding-Check/assets\n"
          ],
          "name": "stderr"
        },
        {
          "output_type": "stream",
          "text": [
            "Epoch 30/120\n",
            "410/410 [==============================] - 79s 193ms/step - loss: 0.4443 - accuracy: 0.8474 - val_loss: 0.5534 - val_accuracy: 0.8094\n",
            "\n",
            "Epoch 00030: saving model to /content/drive/MyDrive/SubmissionDicodingPengembanganML/ML-Dicoding-Check\n"
          ],
          "name": "stdout"
        },
        {
          "output_type": "stream",
          "text": [
            "WARNING:absl:Found untraced functions such as lstm_cell_layer_call_and_return_conditional_losses, lstm_cell_layer_call_fn, lstm_cell_layer_call_fn, lstm_cell_layer_call_and_return_conditional_losses, lstm_cell_layer_call_and_return_conditional_losses while saving (showing 5 of 5). These functions will not be directly callable after loading.\n"
          ],
          "name": "stderr"
        },
        {
          "output_type": "stream",
          "text": [
            "INFO:tensorflow:Assets written to: /content/drive/MyDrive/SubmissionDicodingPengembanganML/ML-Dicoding-Check/assets\n"
          ],
          "name": "stdout"
        },
        {
          "output_type": "stream",
          "text": [
            "INFO:tensorflow:Assets written to: /content/drive/MyDrive/SubmissionDicodingPengembanganML/ML-Dicoding-Check/assets\n"
          ],
          "name": "stderr"
        },
        {
          "output_type": "stream",
          "text": [
            "Epoch 31/120\n",
            "410/410 [==============================] - 81s 197ms/step - loss: 0.4315 - accuracy: 0.8501 - val_loss: 0.5652 - val_accuracy: 0.8185\n",
            "\n",
            "Epoch 00031: saving model to /content/drive/MyDrive/SubmissionDicodingPengembanganML/ML-Dicoding-Check\n"
          ],
          "name": "stdout"
        },
        {
          "output_type": "stream",
          "text": [
            "WARNING:absl:Found untraced functions such as lstm_cell_layer_call_and_return_conditional_losses, lstm_cell_layer_call_fn, lstm_cell_layer_call_fn, lstm_cell_layer_call_and_return_conditional_losses, lstm_cell_layer_call_and_return_conditional_losses while saving (showing 5 of 5). These functions will not be directly callable after loading.\n"
          ],
          "name": "stderr"
        },
        {
          "output_type": "stream",
          "text": [
            "INFO:tensorflow:Assets written to: /content/drive/MyDrive/SubmissionDicodingPengembanganML/ML-Dicoding-Check/assets\n"
          ],
          "name": "stdout"
        },
        {
          "output_type": "stream",
          "text": [
            "INFO:tensorflow:Assets written to: /content/drive/MyDrive/SubmissionDicodingPengembanganML/ML-Dicoding-Check/assets\n"
          ],
          "name": "stderr"
        },
        {
          "output_type": "stream",
          "text": [
            "Epoch 32/120\n",
            "410/410 [==============================] - 80s 194ms/step - loss: 0.4226 - accuracy: 0.8528 - val_loss: 0.5417 - val_accuracy: 0.8204\n",
            "\n",
            "Epoch 00032: saving model to /content/drive/MyDrive/SubmissionDicodingPengembanganML/ML-Dicoding-Check\n"
          ],
          "name": "stdout"
        },
        {
          "output_type": "stream",
          "text": [
            "WARNING:absl:Found untraced functions such as lstm_cell_layer_call_and_return_conditional_losses, lstm_cell_layer_call_fn, lstm_cell_layer_call_fn, lstm_cell_layer_call_and_return_conditional_losses, lstm_cell_layer_call_and_return_conditional_losses while saving (showing 5 of 5). These functions will not be directly callable after loading.\n"
          ],
          "name": "stderr"
        },
        {
          "output_type": "stream",
          "text": [
            "INFO:tensorflow:Assets written to: /content/drive/MyDrive/SubmissionDicodingPengembanganML/ML-Dicoding-Check/assets\n"
          ],
          "name": "stdout"
        },
        {
          "output_type": "stream",
          "text": [
            "INFO:tensorflow:Assets written to: /content/drive/MyDrive/SubmissionDicodingPengembanganML/ML-Dicoding-Check/assets\n"
          ],
          "name": "stderr"
        },
        {
          "output_type": "stream",
          "text": [
            "Epoch 33/120\n",
            "410/410 [==============================] - 79s 194ms/step - loss: 0.4105 - accuracy: 0.8552 - val_loss: 0.5364 - val_accuracy: 0.8249\n",
            "\n",
            "Epoch 00033: saving model to /content/drive/MyDrive/SubmissionDicodingPengembanganML/ML-Dicoding-Check\n"
          ],
          "name": "stdout"
        },
        {
          "output_type": "stream",
          "text": [
            "WARNING:absl:Found untraced functions such as lstm_cell_layer_call_and_return_conditional_losses, lstm_cell_layer_call_fn, lstm_cell_layer_call_fn, lstm_cell_layer_call_and_return_conditional_losses, lstm_cell_layer_call_and_return_conditional_losses while saving (showing 5 of 5). These functions will not be directly callable after loading.\n"
          ],
          "name": "stderr"
        },
        {
          "output_type": "stream",
          "text": [
            "INFO:tensorflow:Assets written to: /content/drive/MyDrive/SubmissionDicodingPengembanganML/ML-Dicoding-Check/assets\n"
          ],
          "name": "stdout"
        },
        {
          "output_type": "stream",
          "text": [
            "INFO:tensorflow:Assets written to: /content/drive/MyDrive/SubmissionDicodingPengembanganML/ML-Dicoding-Check/assets\n"
          ],
          "name": "stderr"
        },
        {
          "output_type": "stream",
          "text": [
            "Epoch 34/120\n",
            "410/410 [==============================] - 79s 193ms/step - loss: 0.3998 - accuracy: 0.8590 - val_loss: 0.5245 - val_accuracy: 0.8231\n",
            "\n",
            "Epoch 00034: saving model to /content/drive/MyDrive/SubmissionDicodingPengembanganML/ML-Dicoding-Check\n"
          ],
          "name": "stdout"
        },
        {
          "output_type": "stream",
          "text": [
            "WARNING:absl:Found untraced functions such as lstm_cell_layer_call_and_return_conditional_losses, lstm_cell_layer_call_fn, lstm_cell_layer_call_fn, lstm_cell_layer_call_and_return_conditional_losses, lstm_cell_layer_call_and_return_conditional_losses while saving (showing 5 of 5). These functions will not be directly callable after loading.\n"
          ],
          "name": "stderr"
        },
        {
          "output_type": "stream",
          "text": [
            "INFO:tensorflow:Assets written to: /content/drive/MyDrive/SubmissionDicodingPengembanganML/ML-Dicoding-Check/assets\n"
          ],
          "name": "stdout"
        },
        {
          "output_type": "stream",
          "text": [
            "INFO:tensorflow:Assets written to: /content/drive/MyDrive/SubmissionDicodingPengembanganML/ML-Dicoding-Check/assets\n"
          ],
          "name": "stderr"
        },
        {
          "output_type": "stream",
          "text": [
            "Epoch 35/120\n",
            "410/410 [==============================] - 79s 193ms/step - loss: 0.3885 - accuracy: 0.8614 - val_loss: 0.5285 - val_accuracy: 0.8219\n",
            "\n",
            "Epoch 00035: saving model to /content/drive/MyDrive/SubmissionDicodingPengembanganML/ML-Dicoding-Check\n"
          ],
          "name": "stdout"
        },
        {
          "output_type": "stream",
          "text": [
            "WARNING:absl:Found untraced functions such as lstm_cell_layer_call_and_return_conditional_losses, lstm_cell_layer_call_fn, lstm_cell_layer_call_fn, lstm_cell_layer_call_and_return_conditional_losses, lstm_cell_layer_call_and_return_conditional_losses while saving (showing 5 of 5). These functions will not be directly callable after loading.\n"
          ],
          "name": "stderr"
        },
        {
          "output_type": "stream",
          "text": [
            "INFO:tensorflow:Assets written to: /content/drive/MyDrive/SubmissionDicodingPengembanganML/ML-Dicoding-Check/assets\n"
          ],
          "name": "stdout"
        },
        {
          "output_type": "stream",
          "text": [
            "INFO:tensorflow:Assets written to: /content/drive/MyDrive/SubmissionDicodingPengembanganML/ML-Dicoding-Check/assets\n"
          ],
          "name": "stderr"
        },
        {
          "output_type": "stream",
          "text": [
            "Epoch 36/120\n",
            "410/410 [==============================] - 80s 194ms/step - loss: 0.3810 - accuracy: 0.8640 - val_loss: 0.5170 - val_accuracy: 0.8262\n",
            "\n",
            "Epoch 00036: saving model to /content/drive/MyDrive/SubmissionDicodingPengembanganML/ML-Dicoding-Check\n"
          ],
          "name": "stdout"
        },
        {
          "output_type": "stream",
          "text": [
            "WARNING:absl:Found untraced functions such as lstm_cell_layer_call_and_return_conditional_losses, lstm_cell_layer_call_fn, lstm_cell_layer_call_fn, lstm_cell_layer_call_and_return_conditional_losses, lstm_cell_layer_call_and_return_conditional_losses while saving (showing 5 of 5). These functions will not be directly callable after loading.\n"
          ],
          "name": "stderr"
        },
        {
          "output_type": "stream",
          "text": [
            "INFO:tensorflow:Assets written to: /content/drive/MyDrive/SubmissionDicodingPengembanganML/ML-Dicoding-Check/assets\n"
          ],
          "name": "stdout"
        },
        {
          "output_type": "stream",
          "text": [
            "INFO:tensorflow:Assets written to: /content/drive/MyDrive/SubmissionDicodingPengembanganML/ML-Dicoding-Check/assets\n"
          ],
          "name": "stderr"
        },
        {
          "output_type": "stream",
          "text": [
            "Epoch 37/120\n",
            "410/410 [==============================] - 80s 194ms/step - loss: 0.3711 - accuracy: 0.8656 - val_loss: 0.5134 - val_accuracy: 0.8295\n",
            "\n",
            "Epoch 00037: saving model to /content/drive/MyDrive/SubmissionDicodingPengembanganML/ML-Dicoding-Check\n"
          ],
          "name": "stdout"
        },
        {
          "output_type": "stream",
          "text": [
            "WARNING:absl:Found untraced functions such as lstm_cell_layer_call_and_return_conditional_losses, lstm_cell_layer_call_fn, lstm_cell_layer_call_fn, lstm_cell_layer_call_and_return_conditional_losses, lstm_cell_layer_call_and_return_conditional_losses while saving (showing 5 of 5). These functions will not be directly callable after loading.\n"
          ],
          "name": "stderr"
        },
        {
          "output_type": "stream",
          "text": [
            "INFO:tensorflow:Assets written to: /content/drive/MyDrive/SubmissionDicodingPengembanganML/ML-Dicoding-Check/assets\n"
          ],
          "name": "stdout"
        },
        {
          "output_type": "stream",
          "text": [
            "INFO:tensorflow:Assets written to: /content/drive/MyDrive/SubmissionDicodingPengembanganML/ML-Dicoding-Check/assets\n"
          ],
          "name": "stderr"
        },
        {
          "output_type": "stream",
          "text": [
            "Epoch 38/120\n",
            "410/410 [==============================] - 80s 196ms/step - loss: 0.3651 - accuracy: 0.8694 - val_loss: 0.5091 - val_accuracy: 0.8314\n",
            "\n",
            "Epoch 00038: saving model to /content/drive/MyDrive/SubmissionDicodingPengembanganML/ML-Dicoding-Check\n"
          ],
          "name": "stdout"
        },
        {
          "output_type": "stream",
          "text": [
            "WARNING:absl:Found untraced functions such as lstm_cell_layer_call_and_return_conditional_losses, lstm_cell_layer_call_fn, lstm_cell_layer_call_fn, lstm_cell_layer_call_and_return_conditional_losses, lstm_cell_layer_call_and_return_conditional_losses while saving (showing 5 of 5). These functions will not be directly callable after loading.\n"
          ],
          "name": "stderr"
        },
        {
          "output_type": "stream",
          "text": [
            "INFO:tensorflow:Assets written to: /content/drive/MyDrive/SubmissionDicodingPengembanganML/ML-Dicoding-Check/assets\n"
          ],
          "name": "stdout"
        },
        {
          "output_type": "stream",
          "text": [
            "INFO:tensorflow:Assets written to: /content/drive/MyDrive/SubmissionDicodingPengembanganML/ML-Dicoding-Check/assets\n"
          ],
          "name": "stderr"
        },
        {
          "output_type": "stream",
          "text": [
            "Epoch 39/120\n",
            "410/410 [==============================] - 79s 193ms/step - loss: 0.3536 - accuracy: 0.8720 - val_loss: 0.5132 - val_accuracy: 0.8310\n",
            "\n",
            "Epoch 00039: saving model to /content/drive/MyDrive/SubmissionDicodingPengembanganML/ML-Dicoding-Check\n"
          ],
          "name": "stdout"
        },
        {
          "output_type": "stream",
          "text": [
            "WARNING:absl:Found untraced functions such as lstm_cell_layer_call_and_return_conditional_losses, lstm_cell_layer_call_fn, lstm_cell_layer_call_fn, lstm_cell_layer_call_and_return_conditional_losses, lstm_cell_layer_call_and_return_conditional_losses while saving (showing 5 of 5). These functions will not be directly callable after loading.\n"
          ],
          "name": "stderr"
        },
        {
          "output_type": "stream",
          "text": [
            "INFO:tensorflow:Assets written to: /content/drive/MyDrive/SubmissionDicodingPengembanganML/ML-Dicoding-Check/assets\n"
          ],
          "name": "stdout"
        },
        {
          "output_type": "stream",
          "text": [
            "INFO:tensorflow:Assets written to: /content/drive/MyDrive/SubmissionDicodingPengembanganML/ML-Dicoding-Check/assets\n"
          ],
          "name": "stderr"
        },
        {
          "output_type": "stream",
          "text": [
            "Epoch 40/120\n",
            "410/410 [==============================] - 79s 193ms/step - loss: 0.3458 - accuracy: 0.8771 - val_loss: 0.5283 - val_accuracy: 0.8344\n",
            "\n",
            "Epoch 00040: saving model to /content/drive/MyDrive/SubmissionDicodingPengembanganML/ML-Dicoding-Check\n"
          ],
          "name": "stdout"
        },
        {
          "output_type": "stream",
          "text": [
            "WARNING:absl:Found untraced functions such as lstm_cell_layer_call_and_return_conditional_losses, lstm_cell_layer_call_fn, lstm_cell_layer_call_fn, lstm_cell_layer_call_and_return_conditional_losses, lstm_cell_layer_call_and_return_conditional_losses while saving (showing 5 of 5). These functions will not be directly callable after loading.\n"
          ],
          "name": "stderr"
        },
        {
          "output_type": "stream",
          "text": [
            "INFO:tensorflow:Assets written to: /content/drive/MyDrive/SubmissionDicodingPengembanganML/ML-Dicoding-Check/assets\n"
          ],
          "name": "stdout"
        },
        {
          "output_type": "stream",
          "text": [
            "INFO:tensorflow:Assets written to: /content/drive/MyDrive/SubmissionDicodingPengembanganML/ML-Dicoding-Check/assets\n"
          ],
          "name": "stderr"
        },
        {
          "output_type": "stream",
          "text": [
            "Epoch 41/120\n",
            "410/410 [==============================] - 80s 195ms/step - loss: 0.3380 - accuracy: 0.8796 - val_loss: 0.4972 - val_accuracy: 0.8338\n",
            "\n",
            "Epoch 00041: saving model to /content/drive/MyDrive/SubmissionDicodingPengembanganML/ML-Dicoding-Check\n"
          ],
          "name": "stdout"
        },
        {
          "output_type": "stream",
          "text": [
            "WARNING:absl:Found untraced functions such as lstm_cell_layer_call_and_return_conditional_losses, lstm_cell_layer_call_fn, lstm_cell_layer_call_fn, lstm_cell_layer_call_and_return_conditional_losses, lstm_cell_layer_call_and_return_conditional_losses while saving (showing 5 of 5). These functions will not be directly callable after loading.\n"
          ],
          "name": "stderr"
        },
        {
          "output_type": "stream",
          "text": [
            "INFO:tensorflow:Assets written to: /content/drive/MyDrive/SubmissionDicodingPengembanganML/ML-Dicoding-Check/assets\n"
          ],
          "name": "stdout"
        },
        {
          "output_type": "stream",
          "text": [
            "INFO:tensorflow:Assets written to: /content/drive/MyDrive/SubmissionDicodingPengembanganML/ML-Dicoding-Check/assets\n"
          ],
          "name": "stderr"
        },
        {
          "output_type": "stream",
          "text": [
            "Epoch 42/120\n",
            "410/410 [==============================] - 80s 194ms/step - loss: 0.3311 - accuracy: 0.8833 - val_loss: 0.5011 - val_accuracy: 0.8347\n",
            "\n",
            "Epoch 00042: saving model to /content/drive/MyDrive/SubmissionDicodingPengembanganML/ML-Dicoding-Check\n"
          ],
          "name": "stdout"
        },
        {
          "output_type": "stream",
          "text": [
            "WARNING:absl:Found untraced functions such as lstm_cell_layer_call_and_return_conditional_losses, lstm_cell_layer_call_fn, lstm_cell_layer_call_fn, lstm_cell_layer_call_and_return_conditional_losses, lstm_cell_layer_call_and_return_conditional_losses while saving (showing 5 of 5). These functions will not be directly callable after loading.\n"
          ],
          "name": "stderr"
        },
        {
          "output_type": "stream",
          "text": [
            "INFO:tensorflow:Assets written to: /content/drive/MyDrive/SubmissionDicodingPengembanganML/ML-Dicoding-Check/assets\n"
          ],
          "name": "stdout"
        },
        {
          "output_type": "stream",
          "text": [
            "INFO:tensorflow:Assets written to: /content/drive/MyDrive/SubmissionDicodingPengembanganML/ML-Dicoding-Check/assets\n"
          ],
          "name": "stderr"
        },
        {
          "output_type": "stream",
          "text": [
            "Epoch 43/120\n",
            "410/410 [==============================] - 80s 196ms/step - loss: 0.3224 - accuracy: 0.8868 - val_loss: 0.5042 - val_accuracy: 0.8347\n",
            "\n",
            "Epoch 00043: saving model to /content/drive/MyDrive/SubmissionDicodingPengembanganML/ML-Dicoding-Check\n"
          ],
          "name": "stdout"
        },
        {
          "output_type": "stream",
          "text": [
            "WARNING:absl:Found untraced functions such as lstm_cell_layer_call_and_return_conditional_losses, lstm_cell_layer_call_fn, lstm_cell_layer_call_fn, lstm_cell_layer_call_and_return_conditional_losses, lstm_cell_layer_call_and_return_conditional_losses while saving (showing 5 of 5). These functions will not be directly callable after loading.\n"
          ],
          "name": "stderr"
        },
        {
          "output_type": "stream",
          "text": [
            "INFO:tensorflow:Assets written to: /content/drive/MyDrive/SubmissionDicodingPengembanganML/ML-Dicoding-Check/assets\n"
          ],
          "name": "stdout"
        },
        {
          "output_type": "stream",
          "text": [
            "INFO:tensorflow:Assets written to: /content/drive/MyDrive/SubmissionDicodingPengembanganML/ML-Dicoding-Check/assets\n"
          ],
          "name": "stderr"
        },
        {
          "output_type": "stream",
          "text": [
            "Epoch 44/120\n",
            "410/410 [==============================] - 79s 192ms/step - loss: 0.3173 - accuracy: 0.8909 - val_loss: 0.5173 - val_accuracy: 0.8314\n",
            "\n",
            "Epoch 00044: saving model to /content/drive/MyDrive/SubmissionDicodingPengembanganML/ML-Dicoding-Check\n"
          ],
          "name": "stdout"
        },
        {
          "output_type": "stream",
          "text": [
            "WARNING:absl:Found untraced functions such as lstm_cell_layer_call_and_return_conditional_losses, lstm_cell_layer_call_fn, lstm_cell_layer_call_fn, lstm_cell_layer_call_and_return_conditional_losses, lstm_cell_layer_call_and_return_conditional_losses while saving (showing 5 of 5). These functions will not be directly callable after loading.\n"
          ],
          "name": "stderr"
        },
        {
          "output_type": "stream",
          "text": [
            "INFO:tensorflow:Assets written to: /content/drive/MyDrive/SubmissionDicodingPengembanganML/ML-Dicoding-Check/assets\n"
          ],
          "name": "stdout"
        },
        {
          "output_type": "stream",
          "text": [
            "INFO:tensorflow:Assets written to: /content/drive/MyDrive/SubmissionDicodingPengembanganML/ML-Dicoding-Check/assets\n"
          ],
          "name": "stderr"
        },
        {
          "output_type": "stream",
          "text": [
            "Epoch 45/120\n",
            "410/410 [==============================] - 80s 194ms/step - loss: 0.3096 - accuracy: 0.8935 - val_loss: 0.5060 - val_accuracy: 0.8381\n",
            "\n",
            "Epoch 00045: saving model to /content/drive/MyDrive/SubmissionDicodingPengembanganML/ML-Dicoding-Check\n"
          ],
          "name": "stdout"
        },
        {
          "output_type": "stream",
          "text": [
            "WARNING:absl:Found untraced functions such as lstm_cell_layer_call_and_return_conditional_losses, lstm_cell_layer_call_fn, lstm_cell_layer_call_fn, lstm_cell_layer_call_and_return_conditional_losses, lstm_cell_layer_call_and_return_conditional_losses while saving (showing 5 of 5). These functions will not be directly callable after loading.\n"
          ],
          "name": "stderr"
        },
        {
          "output_type": "stream",
          "text": [
            "INFO:tensorflow:Assets written to: /content/drive/MyDrive/SubmissionDicodingPengembanganML/ML-Dicoding-Check/assets\n"
          ],
          "name": "stdout"
        },
        {
          "output_type": "stream",
          "text": [
            "INFO:tensorflow:Assets written to: /content/drive/MyDrive/SubmissionDicodingPengembanganML/ML-Dicoding-Check/assets\n"
          ],
          "name": "stderr"
        },
        {
          "output_type": "stream",
          "text": [
            "Epoch 46/120\n",
            "410/410 [==============================] - 80s 194ms/step - loss: 0.3033 - accuracy: 0.8977 - val_loss: 0.4984 - val_accuracy: 0.8362\n",
            "\n",
            "Epoch 00046: saving model to /content/drive/MyDrive/SubmissionDicodingPengembanganML/ML-Dicoding-Check\n"
          ],
          "name": "stdout"
        },
        {
          "output_type": "stream",
          "text": [
            "WARNING:absl:Found untraced functions such as lstm_cell_layer_call_and_return_conditional_losses, lstm_cell_layer_call_fn, lstm_cell_layer_call_fn, lstm_cell_layer_call_and_return_conditional_losses, lstm_cell_layer_call_and_return_conditional_losses while saving (showing 5 of 5). These functions will not be directly callable after loading.\n"
          ],
          "name": "stderr"
        },
        {
          "output_type": "stream",
          "text": [
            "INFO:tensorflow:Assets written to: /content/drive/MyDrive/SubmissionDicodingPengembanganML/ML-Dicoding-Check/assets\n"
          ],
          "name": "stdout"
        },
        {
          "output_type": "stream",
          "text": [
            "INFO:tensorflow:Assets written to: /content/drive/MyDrive/SubmissionDicodingPengembanganML/ML-Dicoding-Check/assets\n"
          ],
          "name": "stderr"
        },
        {
          "output_type": "stream",
          "text": [
            "Epoch 47/120\n",
            "410/410 [==============================] - 79s 194ms/step - loss: 0.2993 - accuracy: 0.8999 - val_loss: 0.5060 - val_accuracy: 0.8368\n",
            "\n",
            "Epoch 00047: saving model to /content/drive/MyDrive/SubmissionDicodingPengembanganML/ML-Dicoding-Check\n"
          ],
          "name": "stdout"
        },
        {
          "output_type": "stream",
          "text": [
            "WARNING:absl:Found untraced functions such as lstm_cell_layer_call_and_return_conditional_losses, lstm_cell_layer_call_fn, lstm_cell_layer_call_fn, lstm_cell_layer_call_and_return_conditional_losses, lstm_cell_layer_call_and_return_conditional_losses while saving (showing 5 of 5). These functions will not be directly callable after loading.\n"
          ],
          "name": "stderr"
        },
        {
          "output_type": "stream",
          "text": [
            "INFO:tensorflow:Assets written to: /content/drive/MyDrive/SubmissionDicodingPengembanganML/ML-Dicoding-Check/assets\n"
          ],
          "name": "stdout"
        },
        {
          "output_type": "stream",
          "text": [
            "INFO:tensorflow:Assets written to: /content/drive/MyDrive/SubmissionDicodingPengembanganML/ML-Dicoding-Check/assets\n"
          ],
          "name": "stderr"
        },
        {
          "output_type": "stream",
          "text": [
            "Epoch 48/120\n",
            "410/410 [==============================] - 79s 194ms/step - loss: 0.2924 - accuracy: 0.9025 - val_loss: 0.5142 - val_accuracy: 0.8387\n",
            "\n",
            "Epoch 00048: saving model to /content/drive/MyDrive/SubmissionDicodingPengembanganML/ML-Dicoding-Check\n"
          ],
          "name": "stdout"
        },
        {
          "output_type": "stream",
          "text": [
            "WARNING:absl:Found untraced functions such as lstm_cell_layer_call_and_return_conditional_losses, lstm_cell_layer_call_fn, lstm_cell_layer_call_fn, lstm_cell_layer_call_and_return_conditional_losses, lstm_cell_layer_call_and_return_conditional_losses while saving (showing 5 of 5). These functions will not be directly callable after loading.\n"
          ],
          "name": "stderr"
        },
        {
          "output_type": "stream",
          "text": [
            "INFO:tensorflow:Assets written to: /content/drive/MyDrive/SubmissionDicodingPengembanganML/ML-Dicoding-Check/assets\n"
          ],
          "name": "stdout"
        },
        {
          "output_type": "stream",
          "text": [
            "INFO:tensorflow:Assets written to: /content/drive/MyDrive/SubmissionDicodingPengembanganML/ML-Dicoding-Check/assets\n"
          ],
          "name": "stderr"
        },
        {
          "output_type": "stream",
          "text": [
            "Epoch 49/120\n",
            "410/410 [==============================] - 80s 194ms/step - loss: 0.2850 - accuracy: 0.9054 - val_loss: 0.5070 - val_accuracy: 0.8387\n",
            "\n",
            "Epoch 00049: saving model to /content/drive/MyDrive/SubmissionDicodingPengembanganML/ML-Dicoding-Check\n"
          ],
          "name": "stdout"
        },
        {
          "output_type": "stream",
          "text": [
            "WARNING:absl:Found untraced functions such as lstm_cell_layer_call_and_return_conditional_losses, lstm_cell_layer_call_fn, lstm_cell_layer_call_fn, lstm_cell_layer_call_and_return_conditional_losses, lstm_cell_layer_call_and_return_conditional_losses while saving (showing 5 of 5). These functions will not be directly callable after loading.\n"
          ],
          "name": "stderr"
        },
        {
          "output_type": "stream",
          "text": [
            "INFO:tensorflow:Assets written to: /content/drive/MyDrive/SubmissionDicodingPengembanganML/ML-Dicoding-Check/assets\n"
          ],
          "name": "stdout"
        },
        {
          "output_type": "stream",
          "text": [
            "INFO:tensorflow:Assets written to: /content/drive/MyDrive/SubmissionDicodingPengembanganML/ML-Dicoding-Check/assets\n"
          ],
          "name": "stderr"
        },
        {
          "output_type": "stream",
          "text": [
            "Epoch 50/120\n",
            "410/410 [==============================] - 81s 197ms/step - loss: 0.2791 - accuracy: 0.9072 - val_loss: 0.5149 - val_accuracy: 0.8371\n",
            "\n",
            "Epoch 00050: saving model to /content/drive/MyDrive/SubmissionDicodingPengembanganML/ML-Dicoding-Check\n"
          ],
          "name": "stdout"
        },
        {
          "output_type": "stream",
          "text": [
            "WARNING:absl:Found untraced functions such as lstm_cell_layer_call_and_return_conditional_losses, lstm_cell_layer_call_fn, lstm_cell_layer_call_fn, lstm_cell_layer_call_and_return_conditional_losses, lstm_cell_layer_call_and_return_conditional_losses while saving (showing 5 of 5). These functions will not be directly callable after loading.\n"
          ],
          "name": "stderr"
        },
        {
          "output_type": "stream",
          "text": [
            "INFO:tensorflow:Assets written to: /content/drive/MyDrive/SubmissionDicodingPengembanganML/ML-Dicoding-Check/assets\n"
          ],
          "name": "stdout"
        },
        {
          "output_type": "stream",
          "text": [
            "INFO:tensorflow:Assets written to: /content/drive/MyDrive/SubmissionDicodingPengembanganML/ML-Dicoding-Check/assets\n"
          ],
          "name": "stderr"
        },
        {
          "output_type": "stream",
          "text": [
            "Epoch 51/120\n",
            "410/410 [==============================] - 79s 193ms/step - loss: 0.2740 - accuracy: 0.9120 - val_loss: 0.5190 - val_accuracy: 0.8375\n",
            "\n",
            "Epoch 00051: saving model to /content/drive/MyDrive/SubmissionDicodingPengembanganML/ML-Dicoding-Check\n"
          ],
          "name": "stdout"
        },
        {
          "output_type": "stream",
          "text": [
            "WARNING:absl:Found untraced functions such as lstm_cell_layer_call_and_return_conditional_losses, lstm_cell_layer_call_fn, lstm_cell_layer_call_fn, lstm_cell_layer_call_and_return_conditional_losses, lstm_cell_layer_call_and_return_conditional_losses while saving (showing 5 of 5). These functions will not be directly callable after loading.\n"
          ],
          "name": "stderr"
        },
        {
          "output_type": "stream",
          "text": [
            "INFO:tensorflow:Assets written to: /content/drive/MyDrive/SubmissionDicodingPengembanganML/ML-Dicoding-Check/assets\n"
          ],
          "name": "stdout"
        },
        {
          "output_type": "stream",
          "text": [
            "INFO:tensorflow:Assets written to: /content/drive/MyDrive/SubmissionDicodingPengembanganML/ML-Dicoding-Check/assets\n"
          ],
          "name": "stderr"
        },
        {
          "output_type": "stream",
          "text": [
            "Epoch 52/120\n",
            "410/410 [==============================] - 80s 194ms/step - loss: 0.2675 - accuracy: 0.9150 - val_loss: 0.5344 - val_accuracy: 0.8390\n",
            "\n",
            "Epoch 00052: saving model to /content/drive/MyDrive/SubmissionDicodingPengembanganML/ML-Dicoding-Check\n"
          ],
          "name": "stdout"
        },
        {
          "output_type": "stream",
          "text": [
            "WARNING:absl:Found untraced functions such as lstm_cell_layer_call_and_return_conditional_losses, lstm_cell_layer_call_fn, lstm_cell_layer_call_fn, lstm_cell_layer_call_and_return_conditional_losses, lstm_cell_layer_call_and_return_conditional_losses while saving (showing 5 of 5). These functions will not be directly callable after loading.\n"
          ],
          "name": "stderr"
        },
        {
          "output_type": "stream",
          "text": [
            "INFO:tensorflow:Assets written to: /content/drive/MyDrive/SubmissionDicodingPengembanganML/ML-Dicoding-Check/assets\n"
          ],
          "name": "stdout"
        },
        {
          "output_type": "stream",
          "text": [
            "INFO:tensorflow:Assets written to: /content/drive/MyDrive/SubmissionDicodingPengembanganML/ML-Dicoding-Check/assets\n"
          ],
          "name": "stderr"
        },
        {
          "output_type": "stream",
          "text": [
            "Epoch 53/120\n",
            "410/410 [==============================] - 80s 195ms/step - loss: 0.2618 - accuracy: 0.9161 - val_loss: 0.5392 - val_accuracy: 0.8353\n",
            "\n",
            "Epoch 00053: saving model to /content/drive/MyDrive/SubmissionDicodingPengembanganML/ML-Dicoding-Check\n"
          ],
          "name": "stdout"
        },
        {
          "output_type": "stream",
          "text": [
            "WARNING:absl:Found untraced functions such as lstm_cell_layer_call_and_return_conditional_losses, lstm_cell_layer_call_fn, lstm_cell_layer_call_fn, lstm_cell_layer_call_and_return_conditional_losses, lstm_cell_layer_call_and_return_conditional_losses while saving (showing 5 of 5). These functions will not be directly callable after loading.\n"
          ],
          "name": "stderr"
        },
        {
          "output_type": "stream",
          "text": [
            "INFO:tensorflow:Assets written to: /content/drive/MyDrive/SubmissionDicodingPengembanganML/ML-Dicoding-Check/assets\n"
          ],
          "name": "stdout"
        },
        {
          "output_type": "stream",
          "text": [
            "INFO:tensorflow:Assets written to: /content/drive/MyDrive/SubmissionDicodingPengembanganML/ML-Dicoding-Check/assets\n"
          ],
          "name": "stderr"
        },
        {
          "output_type": "stream",
          "text": [
            "Epoch 54/120\n",
            "410/410 [==============================] - 80s 194ms/step - loss: 0.2577 - accuracy: 0.9189 - val_loss: 0.5320 - val_accuracy: 0.8381\n",
            "\n",
            "Epoch 00054: saving model to /content/drive/MyDrive/SubmissionDicodingPengembanganML/ML-Dicoding-Check\n"
          ],
          "name": "stdout"
        },
        {
          "output_type": "stream",
          "text": [
            "WARNING:absl:Found untraced functions such as lstm_cell_layer_call_and_return_conditional_losses, lstm_cell_layer_call_fn, lstm_cell_layer_call_fn, lstm_cell_layer_call_and_return_conditional_losses, lstm_cell_layer_call_and_return_conditional_losses while saving (showing 5 of 5). These functions will not be directly callable after loading.\n"
          ],
          "name": "stderr"
        },
        {
          "output_type": "stream",
          "text": [
            "INFO:tensorflow:Assets written to: /content/drive/MyDrive/SubmissionDicodingPengembanganML/ML-Dicoding-Check/assets\n"
          ],
          "name": "stdout"
        },
        {
          "output_type": "stream",
          "text": [
            "INFO:tensorflow:Assets written to: /content/drive/MyDrive/SubmissionDicodingPengembanganML/ML-Dicoding-Check/assets\n"
          ],
          "name": "stderr"
        },
        {
          "output_type": "stream",
          "text": [
            "Epoch 55/120\n",
            "410/410 [==============================] - 80s 195ms/step - loss: 0.2524 - accuracy: 0.9222 - val_loss: 0.5263 - val_accuracy: 0.8381\n",
            "\n",
            "Epoch 00055: saving model to /content/drive/MyDrive/SubmissionDicodingPengembanganML/ML-Dicoding-Check\n"
          ],
          "name": "stdout"
        },
        {
          "output_type": "stream",
          "text": [
            "WARNING:absl:Found untraced functions such as lstm_cell_layer_call_and_return_conditional_losses, lstm_cell_layer_call_fn, lstm_cell_layer_call_fn, lstm_cell_layer_call_and_return_conditional_losses, lstm_cell_layer_call_and_return_conditional_losses while saving (showing 5 of 5). These functions will not be directly callable after loading.\n"
          ],
          "name": "stderr"
        },
        {
          "output_type": "stream",
          "text": [
            "INFO:tensorflow:Assets written to: /content/drive/MyDrive/SubmissionDicodingPengembanganML/ML-Dicoding-Check/assets\n"
          ],
          "name": "stdout"
        },
        {
          "output_type": "stream",
          "text": [
            "INFO:tensorflow:Assets written to: /content/drive/MyDrive/SubmissionDicodingPengembanganML/ML-Dicoding-Check/assets\n"
          ],
          "name": "stderr"
        },
        {
          "output_type": "stream",
          "text": [
            "Epoch 56/120\n",
            "410/410 [==============================] - 81s 197ms/step - loss: 0.2452 - accuracy: 0.9248 - val_loss: 0.5413 - val_accuracy: 0.8368\n",
            "\n",
            "Epoch 00056: saving model to /content/drive/MyDrive/SubmissionDicodingPengembanganML/ML-Dicoding-Check\n"
          ],
          "name": "stdout"
        },
        {
          "output_type": "stream",
          "text": [
            "WARNING:absl:Found untraced functions such as lstm_cell_layer_call_and_return_conditional_losses, lstm_cell_layer_call_fn, lstm_cell_layer_call_fn, lstm_cell_layer_call_and_return_conditional_losses, lstm_cell_layer_call_and_return_conditional_losses while saving (showing 5 of 5). These functions will not be directly callable after loading.\n"
          ],
          "name": "stderr"
        },
        {
          "output_type": "stream",
          "text": [
            "INFO:tensorflow:Assets written to: /content/drive/MyDrive/SubmissionDicodingPengembanganML/ML-Dicoding-Check/assets\n"
          ],
          "name": "stdout"
        },
        {
          "output_type": "stream",
          "text": [
            "INFO:tensorflow:Assets written to: /content/drive/MyDrive/SubmissionDicodingPengembanganML/ML-Dicoding-Check/assets\n"
          ],
          "name": "stderr"
        },
        {
          "output_type": "stream",
          "text": [
            "Epoch 57/120\n",
            "410/410 [==============================] - 80s 196ms/step - loss: 0.2410 - accuracy: 0.9264 - val_loss: 0.5527 - val_accuracy: 0.8338\n",
            "\n",
            "Epoch 00057: saving model to /content/drive/MyDrive/SubmissionDicodingPengembanganML/ML-Dicoding-Check\n"
          ],
          "name": "stdout"
        },
        {
          "output_type": "stream",
          "text": [
            "WARNING:absl:Found untraced functions such as lstm_cell_layer_call_and_return_conditional_losses, lstm_cell_layer_call_fn, lstm_cell_layer_call_fn, lstm_cell_layer_call_and_return_conditional_losses, lstm_cell_layer_call_and_return_conditional_losses while saving (showing 5 of 5). These functions will not be directly callable after loading.\n"
          ],
          "name": "stderr"
        },
        {
          "output_type": "stream",
          "text": [
            "INFO:tensorflow:Assets written to: /content/drive/MyDrive/SubmissionDicodingPengembanganML/ML-Dicoding-Check/assets\n"
          ],
          "name": "stdout"
        },
        {
          "output_type": "stream",
          "text": [
            "INFO:tensorflow:Assets written to: /content/drive/MyDrive/SubmissionDicodingPengembanganML/ML-Dicoding-Check/assets\n"
          ],
          "name": "stderr"
        },
        {
          "output_type": "stream",
          "text": [
            "Epoch 58/120\n",
            "410/410 [==============================] - 80s 195ms/step - loss: 0.2361 - accuracy: 0.9277 - val_loss: 0.5532 - val_accuracy: 0.8359\n",
            "\n",
            "Epoch 00058: saving model to /content/drive/MyDrive/SubmissionDicodingPengembanganML/ML-Dicoding-Check\n"
          ],
          "name": "stdout"
        },
        {
          "output_type": "stream",
          "text": [
            "WARNING:absl:Found untraced functions such as lstm_cell_layer_call_and_return_conditional_losses, lstm_cell_layer_call_fn, lstm_cell_layer_call_fn, lstm_cell_layer_call_and_return_conditional_losses, lstm_cell_layer_call_and_return_conditional_losses while saving (showing 5 of 5). These functions will not be directly callable after loading.\n"
          ],
          "name": "stderr"
        },
        {
          "output_type": "stream",
          "text": [
            "INFO:tensorflow:Assets written to: /content/drive/MyDrive/SubmissionDicodingPengembanganML/ML-Dicoding-Check/assets\n"
          ],
          "name": "stdout"
        },
        {
          "output_type": "stream",
          "text": [
            "INFO:tensorflow:Assets written to: /content/drive/MyDrive/SubmissionDicodingPengembanganML/ML-Dicoding-Check/assets\n"
          ],
          "name": "stderr"
        },
        {
          "output_type": "stream",
          "text": [
            "Epoch 59/120\n",
            "410/410 [==============================] - 79s 193ms/step - loss: 0.2332 - accuracy: 0.9288 - val_loss: 0.5642 - val_accuracy: 0.8344\n",
            "\n",
            "Epoch 00059: saving model to /content/drive/MyDrive/SubmissionDicodingPengembanganML/ML-Dicoding-Check\n"
          ],
          "name": "stdout"
        },
        {
          "output_type": "stream",
          "text": [
            "WARNING:absl:Found untraced functions such as lstm_cell_layer_call_and_return_conditional_losses, lstm_cell_layer_call_fn, lstm_cell_layer_call_fn, lstm_cell_layer_call_and_return_conditional_losses, lstm_cell_layer_call_and_return_conditional_losses while saving (showing 5 of 5). These functions will not be directly callable after loading.\n"
          ],
          "name": "stderr"
        },
        {
          "output_type": "stream",
          "text": [
            "INFO:tensorflow:Assets written to: /content/drive/MyDrive/SubmissionDicodingPengembanganML/ML-Dicoding-Check/assets\n"
          ],
          "name": "stdout"
        },
        {
          "output_type": "stream",
          "text": [
            "INFO:tensorflow:Assets written to: /content/drive/MyDrive/SubmissionDicodingPengembanganML/ML-Dicoding-Check/assets\n"
          ],
          "name": "stderr"
        },
        {
          "output_type": "stream",
          "text": [
            "Epoch 60/120\n",
            "410/410 [==============================] - 78s 191ms/step - loss: 0.2290 - accuracy: 0.9318 - val_loss: 0.5483 - val_accuracy: 0.8384\n",
            "\n",
            "Epoch 00060: saving model to /content/drive/MyDrive/SubmissionDicodingPengembanganML/ML-Dicoding-Check\n"
          ],
          "name": "stdout"
        },
        {
          "output_type": "stream",
          "text": [
            "WARNING:absl:Found untraced functions such as lstm_cell_layer_call_and_return_conditional_losses, lstm_cell_layer_call_fn, lstm_cell_layer_call_fn, lstm_cell_layer_call_and_return_conditional_losses, lstm_cell_layer_call_and_return_conditional_losses while saving (showing 5 of 5). These functions will not be directly callable after loading.\n"
          ],
          "name": "stderr"
        },
        {
          "output_type": "stream",
          "text": [
            "INFO:tensorflow:Assets written to: /content/drive/MyDrive/SubmissionDicodingPengembanganML/ML-Dicoding-Check/assets\n"
          ],
          "name": "stdout"
        },
        {
          "output_type": "stream",
          "text": [
            "INFO:tensorflow:Assets written to: /content/drive/MyDrive/SubmissionDicodingPengembanganML/ML-Dicoding-Check/assets\n"
          ],
          "name": "stderr"
        },
        {
          "output_type": "stream",
          "text": [
            "Epoch 61/120\n",
            "410/410 [==============================] - 79s 193ms/step - loss: 0.2232 - accuracy: 0.9337 - val_loss: 0.5965 - val_accuracy: 0.8268\n",
            "\n",
            "Epoch 00061: saving model to /content/drive/MyDrive/SubmissionDicodingPengembanganML/ML-Dicoding-Check\n"
          ],
          "name": "stdout"
        },
        {
          "output_type": "stream",
          "text": [
            "WARNING:absl:Found untraced functions such as lstm_cell_layer_call_and_return_conditional_losses, lstm_cell_layer_call_fn, lstm_cell_layer_call_fn, lstm_cell_layer_call_and_return_conditional_losses, lstm_cell_layer_call_and_return_conditional_losses while saving (showing 5 of 5). These functions will not be directly callable after loading.\n"
          ],
          "name": "stderr"
        },
        {
          "output_type": "stream",
          "text": [
            "INFO:tensorflow:Assets written to: /content/drive/MyDrive/SubmissionDicodingPengembanganML/ML-Dicoding-Check/assets\n"
          ],
          "name": "stdout"
        },
        {
          "output_type": "stream",
          "text": [
            "INFO:tensorflow:Assets written to: /content/drive/MyDrive/SubmissionDicodingPengembanganML/ML-Dicoding-Check/assets\n"
          ],
          "name": "stderr"
        },
        {
          "output_type": "stream",
          "text": [
            "Epoch 62/120\n",
            "410/410 [==============================] - 81s 198ms/step - loss: 0.2224 - accuracy: 0.9347 - val_loss: 0.5477 - val_accuracy: 0.8356\n",
            "\n",
            "Epoch 00062: saving model to /content/drive/MyDrive/SubmissionDicodingPengembanganML/ML-Dicoding-Check\n"
          ],
          "name": "stdout"
        },
        {
          "output_type": "stream",
          "text": [
            "WARNING:absl:Found untraced functions such as lstm_cell_layer_call_and_return_conditional_losses, lstm_cell_layer_call_fn, lstm_cell_layer_call_fn, lstm_cell_layer_call_and_return_conditional_losses, lstm_cell_layer_call_and_return_conditional_losses while saving (showing 5 of 5). These functions will not be directly callable after loading.\n"
          ],
          "name": "stderr"
        },
        {
          "output_type": "stream",
          "text": [
            "INFO:tensorflow:Assets written to: /content/drive/MyDrive/SubmissionDicodingPengembanganML/ML-Dicoding-Check/assets\n"
          ],
          "name": "stdout"
        },
        {
          "output_type": "stream",
          "text": [
            "INFO:tensorflow:Assets written to: /content/drive/MyDrive/SubmissionDicodingPengembanganML/ML-Dicoding-Check/assets\n"
          ],
          "name": "stderr"
        },
        {
          "output_type": "stream",
          "text": [
            "Epoch 63/120\n",
            "410/410 [==============================] - 80s 194ms/step - loss: 0.2222 - accuracy: 0.9342 - val_loss: 0.5865 - val_accuracy: 0.8326\n",
            "\n",
            "Epoch 00063: saving model to /content/drive/MyDrive/SubmissionDicodingPengembanganML/ML-Dicoding-Check\n"
          ],
          "name": "stdout"
        },
        {
          "output_type": "stream",
          "text": [
            "WARNING:absl:Found untraced functions such as lstm_cell_layer_call_and_return_conditional_losses, lstm_cell_layer_call_fn, lstm_cell_layer_call_fn, lstm_cell_layer_call_and_return_conditional_losses, lstm_cell_layer_call_and_return_conditional_losses while saving (showing 5 of 5). These functions will not be directly callable after loading.\n"
          ],
          "name": "stderr"
        },
        {
          "output_type": "stream",
          "text": [
            "INFO:tensorflow:Assets written to: /content/drive/MyDrive/SubmissionDicodingPengembanganML/ML-Dicoding-Check/assets\n"
          ],
          "name": "stdout"
        },
        {
          "output_type": "stream",
          "text": [
            "INFO:tensorflow:Assets written to: /content/drive/MyDrive/SubmissionDicodingPengembanganML/ML-Dicoding-Check/assets\n"
          ],
          "name": "stderr"
        },
        {
          "output_type": "stream",
          "text": [
            "Epoch 64/120\n",
            "410/410 [==============================] - 81s 196ms/step - loss: 0.2125 - accuracy: 0.9376 - val_loss: 0.5766 - val_accuracy: 0.8365\n",
            "\n",
            "Epoch 00064: saving model to /content/drive/MyDrive/SubmissionDicodingPengembanganML/ML-Dicoding-Check\n"
          ],
          "name": "stdout"
        },
        {
          "output_type": "stream",
          "text": [
            "WARNING:absl:Found untraced functions such as lstm_cell_layer_call_and_return_conditional_losses, lstm_cell_layer_call_fn, lstm_cell_layer_call_fn, lstm_cell_layer_call_and_return_conditional_losses, lstm_cell_layer_call_and_return_conditional_losses while saving (showing 5 of 5). These functions will not be directly callable after loading.\n"
          ],
          "name": "stderr"
        },
        {
          "output_type": "stream",
          "text": [
            "INFO:tensorflow:Assets written to: /content/drive/MyDrive/SubmissionDicodingPengembanganML/ML-Dicoding-Check/assets\n"
          ],
          "name": "stdout"
        },
        {
          "output_type": "stream",
          "text": [
            "INFO:tensorflow:Assets written to: /content/drive/MyDrive/SubmissionDicodingPengembanganML/ML-Dicoding-Check/assets\n"
          ],
          "name": "stderr"
        },
        {
          "output_type": "stream",
          "text": [
            "Epoch 65/120\n",
            "410/410 [==============================] - 80s 195ms/step - loss: 0.2137 - accuracy: 0.9378 - val_loss: 0.5872 - val_accuracy: 0.8317\n",
            "\n",
            "Epoch 00065: saving model to /content/drive/MyDrive/SubmissionDicodingPengembanganML/ML-Dicoding-Check\n"
          ],
          "name": "stdout"
        },
        {
          "output_type": "stream",
          "text": [
            "WARNING:absl:Found untraced functions such as lstm_cell_layer_call_and_return_conditional_losses, lstm_cell_layer_call_fn, lstm_cell_layer_call_fn, lstm_cell_layer_call_and_return_conditional_losses, lstm_cell_layer_call_and_return_conditional_losses while saving (showing 5 of 5). These functions will not be directly callable after loading.\n"
          ],
          "name": "stderr"
        },
        {
          "output_type": "stream",
          "text": [
            "INFO:tensorflow:Assets written to: /content/drive/MyDrive/SubmissionDicodingPengembanganML/ML-Dicoding-Check/assets\n"
          ],
          "name": "stdout"
        },
        {
          "output_type": "stream",
          "text": [
            "INFO:tensorflow:Assets written to: /content/drive/MyDrive/SubmissionDicodingPengembanganML/ML-Dicoding-Check/assets\n"
          ],
          "name": "stderr"
        },
        {
          "output_type": "stream",
          "text": [
            "Epoch 66/120\n",
            "410/410 [==============================] - 80s 194ms/step - loss: 0.2086 - accuracy: 0.9398 - val_loss: 0.5783 - val_accuracy: 0.8353\n",
            "\n",
            "Epoch 00066: saving model to /content/drive/MyDrive/SubmissionDicodingPengembanganML/ML-Dicoding-Check\n"
          ],
          "name": "stdout"
        },
        {
          "output_type": "stream",
          "text": [
            "WARNING:absl:Found untraced functions such as lstm_cell_layer_call_and_return_conditional_losses, lstm_cell_layer_call_fn, lstm_cell_layer_call_fn, lstm_cell_layer_call_and_return_conditional_losses, lstm_cell_layer_call_and_return_conditional_losses while saving (showing 5 of 5). These functions will not be directly callable after loading.\n"
          ],
          "name": "stderr"
        },
        {
          "output_type": "stream",
          "text": [
            "INFO:tensorflow:Assets written to: /content/drive/MyDrive/SubmissionDicodingPengembanganML/ML-Dicoding-Check/assets\n"
          ],
          "name": "stdout"
        },
        {
          "output_type": "stream",
          "text": [
            "INFO:tensorflow:Assets written to: /content/drive/MyDrive/SubmissionDicodingPengembanganML/ML-Dicoding-Check/assets\n"
          ],
          "name": "stderr"
        },
        {
          "output_type": "stream",
          "text": [
            "Epoch 67/120\n",
            "410/410 [==============================] - 79s 193ms/step - loss: 0.2081 - accuracy: 0.9395 - val_loss: 0.5799 - val_accuracy: 0.8323\n",
            "\n",
            "Epoch 00067: saving model to /content/drive/MyDrive/SubmissionDicodingPengembanganML/ML-Dicoding-Check\n"
          ],
          "name": "stdout"
        },
        {
          "output_type": "stream",
          "text": [
            "WARNING:absl:Found untraced functions such as lstm_cell_layer_call_and_return_conditional_losses, lstm_cell_layer_call_fn, lstm_cell_layer_call_fn, lstm_cell_layer_call_and_return_conditional_losses, lstm_cell_layer_call_and_return_conditional_losses while saving (showing 5 of 5). These functions will not be directly callable after loading.\n"
          ],
          "name": "stderr"
        },
        {
          "output_type": "stream",
          "text": [
            "INFO:tensorflow:Assets written to: /content/drive/MyDrive/SubmissionDicodingPengembanganML/ML-Dicoding-Check/assets\n"
          ],
          "name": "stdout"
        },
        {
          "output_type": "stream",
          "text": [
            "INFO:tensorflow:Assets written to: /content/drive/MyDrive/SubmissionDicodingPengembanganML/ML-Dicoding-Check/assets\n"
          ],
          "name": "stderr"
        },
        {
          "output_type": "stream",
          "text": [
            "Epoch 68/120\n",
            "410/410 [==============================] - 80s 195ms/step - loss: 0.2038 - accuracy: 0.9409 - val_loss: 0.5979 - val_accuracy: 0.8323\n",
            "\n",
            "Epoch 00068: saving model to /content/drive/MyDrive/SubmissionDicodingPengembanganML/ML-Dicoding-Check\n"
          ],
          "name": "stdout"
        },
        {
          "output_type": "stream",
          "text": [
            "WARNING:absl:Found untraced functions such as lstm_cell_layer_call_and_return_conditional_losses, lstm_cell_layer_call_fn, lstm_cell_layer_call_fn, lstm_cell_layer_call_and_return_conditional_losses, lstm_cell_layer_call_and_return_conditional_losses while saving (showing 5 of 5). These functions will not be directly callable after loading.\n"
          ],
          "name": "stderr"
        },
        {
          "output_type": "stream",
          "text": [
            "INFO:tensorflow:Assets written to: /content/drive/MyDrive/SubmissionDicodingPengembanganML/ML-Dicoding-Check/assets\n"
          ],
          "name": "stdout"
        },
        {
          "output_type": "stream",
          "text": [
            "INFO:tensorflow:Assets written to: /content/drive/MyDrive/SubmissionDicodingPengembanganML/ML-Dicoding-Check/assets\n"
          ],
          "name": "stderr"
        },
        {
          "output_type": "stream",
          "text": [
            "Epoch 69/120\n",
            "410/410 [==============================] - 81s 198ms/step - loss: 0.2214 - accuracy: 0.9346 - val_loss: 0.5927 - val_accuracy: 0.8323\n",
            "\n",
            "Epoch 00069: saving model to /content/drive/MyDrive/SubmissionDicodingPengembanganML/ML-Dicoding-Check\n"
          ],
          "name": "stdout"
        },
        {
          "output_type": "stream",
          "text": [
            "WARNING:absl:Found untraced functions such as lstm_cell_layer_call_and_return_conditional_losses, lstm_cell_layer_call_fn, lstm_cell_layer_call_fn, lstm_cell_layer_call_and_return_conditional_losses, lstm_cell_layer_call_and_return_conditional_losses while saving (showing 5 of 5). These functions will not be directly callable after loading.\n"
          ],
          "name": "stderr"
        },
        {
          "output_type": "stream",
          "text": [
            "INFO:tensorflow:Assets written to: /content/drive/MyDrive/SubmissionDicodingPengembanganML/ML-Dicoding-Check/assets\n"
          ],
          "name": "stdout"
        },
        {
          "output_type": "stream",
          "text": [
            "INFO:tensorflow:Assets written to: /content/drive/MyDrive/SubmissionDicodingPengembanganML/ML-Dicoding-Check/assets\n"
          ],
          "name": "stderr"
        },
        {
          "output_type": "stream",
          "text": [
            "Epoch 70/120\n",
            "410/410 [==============================] - 81s 198ms/step - loss: 0.2352 - accuracy: 0.9249 - val_loss: 0.5702 - val_accuracy: 0.8323\n",
            "\n",
            "Epoch 00070: saving model to /content/drive/MyDrive/SubmissionDicodingPengembanganML/ML-Dicoding-Check\n"
          ],
          "name": "stdout"
        },
        {
          "output_type": "stream",
          "text": [
            "WARNING:absl:Found untraced functions such as lstm_cell_layer_call_and_return_conditional_losses, lstm_cell_layer_call_fn, lstm_cell_layer_call_fn, lstm_cell_layer_call_and_return_conditional_losses, lstm_cell_layer_call_and_return_conditional_losses while saving (showing 5 of 5). These functions will not be directly callable after loading.\n"
          ],
          "name": "stderr"
        },
        {
          "output_type": "stream",
          "text": [
            "INFO:tensorflow:Assets written to: /content/drive/MyDrive/SubmissionDicodingPengembanganML/ML-Dicoding-Check/assets\n"
          ],
          "name": "stdout"
        },
        {
          "output_type": "stream",
          "text": [
            "INFO:tensorflow:Assets written to: /content/drive/MyDrive/SubmissionDicodingPengembanganML/ML-Dicoding-Check/assets\n"
          ],
          "name": "stderr"
        },
        {
          "output_type": "stream",
          "text": [
            "Epoch 71/120\n",
            "410/410 [==============================] - 79s 193ms/step - loss: 0.2002 - accuracy: 0.9427 - val_loss: 0.6039 - val_accuracy: 0.8301\n",
            "\n",
            "Epoch 00071: saving model to /content/drive/MyDrive/SubmissionDicodingPengembanganML/ML-Dicoding-Check\n"
          ],
          "name": "stdout"
        },
        {
          "output_type": "stream",
          "text": [
            "WARNING:absl:Found untraced functions such as lstm_cell_layer_call_and_return_conditional_losses, lstm_cell_layer_call_fn, lstm_cell_layer_call_fn, lstm_cell_layer_call_and_return_conditional_losses, lstm_cell_layer_call_and_return_conditional_losses while saving (showing 5 of 5). These functions will not be directly callable after loading.\n"
          ],
          "name": "stderr"
        },
        {
          "output_type": "stream",
          "text": [
            "INFO:tensorflow:Assets written to: /content/drive/MyDrive/SubmissionDicodingPengembanganML/ML-Dicoding-Check/assets\n"
          ],
          "name": "stdout"
        },
        {
          "output_type": "stream",
          "text": [
            "INFO:tensorflow:Assets written to: /content/drive/MyDrive/SubmissionDicodingPengembanganML/ML-Dicoding-Check/assets\n"
          ],
          "name": "stderr"
        },
        {
          "output_type": "stream",
          "text": [
            "Epoch 72/120\n",
            "410/410 [==============================] - 80s 195ms/step - loss: 0.2185 - accuracy: 0.9318 - val_loss: 0.6003 - val_accuracy: 0.8332\n",
            "\n",
            "Epoch 00072: saving model to /content/drive/MyDrive/SubmissionDicodingPengembanganML/ML-Dicoding-Check\n"
          ],
          "name": "stdout"
        },
        {
          "output_type": "stream",
          "text": [
            "WARNING:absl:Found untraced functions such as lstm_cell_layer_call_and_return_conditional_losses, lstm_cell_layer_call_fn, lstm_cell_layer_call_fn, lstm_cell_layer_call_and_return_conditional_losses, lstm_cell_layer_call_and_return_conditional_losses while saving (showing 5 of 5). These functions will not be directly callable after loading.\n"
          ],
          "name": "stderr"
        },
        {
          "output_type": "stream",
          "text": [
            "INFO:tensorflow:Assets written to: /content/drive/MyDrive/SubmissionDicodingPengembanganML/ML-Dicoding-Check/assets\n"
          ],
          "name": "stdout"
        },
        {
          "output_type": "stream",
          "text": [
            "INFO:tensorflow:Assets written to: /content/drive/MyDrive/SubmissionDicodingPengembanganML/ML-Dicoding-Check/assets\n"
          ],
          "name": "stderr"
        },
        {
          "output_type": "stream",
          "text": [
            "Epoch 73/120\n",
            "410/410 [==============================] - 80s 194ms/step - loss: 0.1976 - accuracy: 0.9436 - val_loss: 0.5916 - val_accuracy: 0.8314\n",
            "\n",
            "Epoch 00073: saving model to /content/drive/MyDrive/SubmissionDicodingPengembanganML/ML-Dicoding-Check\n"
          ],
          "name": "stdout"
        },
        {
          "output_type": "stream",
          "text": [
            "WARNING:absl:Found untraced functions such as lstm_cell_layer_call_and_return_conditional_losses, lstm_cell_layer_call_fn, lstm_cell_layer_call_fn, lstm_cell_layer_call_and_return_conditional_losses, lstm_cell_layer_call_and_return_conditional_losses while saving (showing 5 of 5). These functions will not be directly callable after loading.\n"
          ],
          "name": "stderr"
        },
        {
          "output_type": "stream",
          "text": [
            "INFO:tensorflow:Assets written to: /content/drive/MyDrive/SubmissionDicodingPengembanganML/ML-Dicoding-Check/assets\n"
          ],
          "name": "stdout"
        },
        {
          "output_type": "stream",
          "text": [
            "INFO:tensorflow:Assets written to: /content/drive/MyDrive/SubmissionDicodingPengembanganML/ML-Dicoding-Check/assets\n"
          ],
          "name": "stderr"
        },
        {
          "output_type": "stream",
          "text": [
            "Epoch 74/120\n",
            "410/410 [==============================] - 80s 196ms/step - loss: 0.1902 - accuracy: 0.9461 - val_loss: 0.6077 - val_accuracy: 0.8326\n",
            "\n",
            "Epoch 00074: saving model to /content/drive/MyDrive/SubmissionDicodingPengembanganML/ML-Dicoding-Check\n"
          ],
          "name": "stdout"
        },
        {
          "output_type": "stream",
          "text": [
            "WARNING:absl:Found untraced functions such as lstm_cell_layer_call_and_return_conditional_losses, lstm_cell_layer_call_fn, lstm_cell_layer_call_fn, lstm_cell_layer_call_and_return_conditional_losses, lstm_cell_layer_call_and_return_conditional_losses while saving (showing 5 of 5). These functions will not be directly callable after loading.\n"
          ],
          "name": "stderr"
        },
        {
          "output_type": "stream",
          "text": [
            "INFO:tensorflow:Assets written to: /content/drive/MyDrive/SubmissionDicodingPengembanganML/ML-Dicoding-Check/assets\n"
          ],
          "name": "stdout"
        },
        {
          "output_type": "stream",
          "text": [
            "INFO:tensorflow:Assets written to: /content/drive/MyDrive/SubmissionDicodingPengembanganML/ML-Dicoding-Check/assets\n"
          ],
          "name": "stderr"
        },
        {
          "output_type": "stream",
          "text": [
            "Epoch 75/120\n",
            "410/410 [==============================] - 80s 195ms/step - loss: 0.1893 - accuracy: 0.9463 - val_loss: 0.6047 - val_accuracy: 0.8329\n",
            "\n",
            "Epoch 00075: saving model to /content/drive/MyDrive/SubmissionDicodingPengembanganML/ML-Dicoding-Check\n"
          ],
          "name": "stdout"
        },
        {
          "output_type": "stream",
          "text": [
            "WARNING:absl:Found untraced functions such as lstm_cell_layer_call_and_return_conditional_losses, lstm_cell_layer_call_fn, lstm_cell_layer_call_fn, lstm_cell_layer_call_and_return_conditional_losses, lstm_cell_layer_call_and_return_conditional_losses while saving (showing 5 of 5). These functions will not be directly callable after loading.\n"
          ],
          "name": "stderr"
        },
        {
          "output_type": "stream",
          "text": [
            "INFO:tensorflow:Assets written to: /content/drive/MyDrive/SubmissionDicodingPengembanganML/ML-Dicoding-Check/assets\n"
          ],
          "name": "stdout"
        },
        {
          "output_type": "stream",
          "text": [
            "INFO:tensorflow:Assets written to: /content/drive/MyDrive/SubmissionDicodingPengembanganML/ML-Dicoding-Check/assets\n"
          ],
          "name": "stderr"
        },
        {
          "output_type": "stream",
          "text": [
            "Epoch 76/120\n",
            "410/410 [==============================] - 81s 197ms/step - loss: 0.1847 - accuracy: 0.9480 - val_loss: 0.6211 - val_accuracy: 0.8335\n",
            "\n",
            "Epoch 00076: saving model to /content/drive/MyDrive/SubmissionDicodingPengembanganML/ML-Dicoding-Check\n"
          ],
          "name": "stdout"
        },
        {
          "output_type": "stream",
          "text": [
            "WARNING:absl:Found untraced functions such as lstm_cell_layer_call_and_return_conditional_losses, lstm_cell_layer_call_fn, lstm_cell_layer_call_fn, lstm_cell_layer_call_and_return_conditional_losses, lstm_cell_layer_call_and_return_conditional_losses while saving (showing 5 of 5). These functions will not be directly callable after loading.\n"
          ],
          "name": "stderr"
        },
        {
          "output_type": "stream",
          "text": [
            "INFO:tensorflow:Assets written to: /content/drive/MyDrive/SubmissionDicodingPengembanganML/ML-Dicoding-Check/assets\n"
          ],
          "name": "stdout"
        },
        {
          "output_type": "stream",
          "text": [
            "INFO:tensorflow:Assets written to: /content/drive/MyDrive/SubmissionDicodingPengembanganML/ML-Dicoding-Check/assets\n"
          ],
          "name": "stderr"
        },
        {
          "output_type": "stream",
          "text": [
            "Epoch 77/120\n",
            "410/410 [==============================] - 80s 195ms/step - loss: 0.1848 - accuracy: 0.9475 - val_loss: 0.6206 - val_accuracy: 0.8314\n",
            "\n",
            "Epoch 00077: saving model to /content/drive/MyDrive/SubmissionDicodingPengembanganML/ML-Dicoding-Check\n"
          ],
          "name": "stdout"
        },
        {
          "output_type": "stream",
          "text": [
            "WARNING:absl:Found untraced functions such as lstm_cell_layer_call_and_return_conditional_losses, lstm_cell_layer_call_fn, lstm_cell_layer_call_fn, lstm_cell_layer_call_and_return_conditional_losses, lstm_cell_layer_call_and_return_conditional_losses while saving (showing 5 of 5). These functions will not be directly callable after loading.\n"
          ],
          "name": "stderr"
        },
        {
          "output_type": "stream",
          "text": [
            "INFO:tensorflow:Assets written to: /content/drive/MyDrive/SubmissionDicodingPengembanganML/ML-Dicoding-Check/assets\n"
          ],
          "name": "stdout"
        },
        {
          "output_type": "stream",
          "text": [
            "INFO:tensorflow:Assets written to: /content/drive/MyDrive/SubmissionDicodingPengembanganML/ML-Dicoding-Check/assets\n"
          ],
          "name": "stderr"
        },
        {
          "output_type": "stream",
          "text": [
            "Epoch 78/120\n",
            "410/410 [==============================] - 80s 194ms/step - loss: 0.2010 - accuracy: 0.9402 - val_loss: 0.6034 - val_accuracy: 0.8304\n",
            "\n",
            "Epoch 00078: saving model to /content/drive/MyDrive/SubmissionDicodingPengembanganML/ML-Dicoding-Check\n"
          ],
          "name": "stdout"
        },
        {
          "output_type": "stream",
          "text": [
            "WARNING:absl:Found untraced functions such as lstm_cell_layer_call_and_return_conditional_losses, lstm_cell_layer_call_fn, lstm_cell_layer_call_fn, lstm_cell_layer_call_and_return_conditional_losses, lstm_cell_layer_call_and_return_conditional_losses while saving (showing 5 of 5). These functions will not be directly callable after loading.\n"
          ],
          "name": "stderr"
        },
        {
          "output_type": "stream",
          "text": [
            "INFO:tensorflow:Assets written to: /content/drive/MyDrive/SubmissionDicodingPengembanganML/ML-Dicoding-Check/assets\n"
          ],
          "name": "stdout"
        },
        {
          "output_type": "stream",
          "text": [
            "INFO:tensorflow:Assets written to: /content/drive/MyDrive/SubmissionDicodingPengembanganML/ML-Dicoding-Check/assets\n"
          ],
          "name": "stderr"
        },
        {
          "output_type": "stream",
          "text": [
            "Epoch 79/120\n",
            "410/410 [==============================] - 81s 198ms/step - loss: 0.1824 - accuracy: 0.9478 - val_loss: 0.6279 - val_accuracy: 0.8335\n",
            "\n",
            "Epoch 00079: saving model to /content/drive/MyDrive/SubmissionDicodingPengembanganML/ML-Dicoding-Check\n"
          ],
          "name": "stdout"
        },
        {
          "output_type": "stream",
          "text": [
            "WARNING:absl:Found untraced functions such as lstm_cell_layer_call_and_return_conditional_losses, lstm_cell_layer_call_fn, lstm_cell_layer_call_fn, lstm_cell_layer_call_and_return_conditional_losses, lstm_cell_layer_call_and_return_conditional_losses while saving (showing 5 of 5). These functions will not be directly callable after loading.\n"
          ],
          "name": "stderr"
        },
        {
          "output_type": "stream",
          "text": [
            "INFO:tensorflow:Assets written to: /content/drive/MyDrive/SubmissionDicodingPengembanganML/ML-Dicoding-Check/assets\n"
          ],
          "name": "stdout"
        },
        {
          "output_type": "stream",
          "text": [
            "INFO:tensorflow:Assets written to: /content/drive/MyDrive/SubmissionDicodingPengembanganML/ML-Dicoding-Check/assets\n"
          ],
          "name": "stderr"
        },
        {
          "output_type": "stream",
          "text": [
            "Epoch 80/120\n",
            "410/410 [==============================] - 80s 196ms/step - loss: 0.1915 - accuracy: 0.9432 - val_loss: 0.6365 - val_accuracy: 0.8304\n",
            "\n",
            "Epoch 00080: saving model to /content/drive/MyDrive/SubmissionDicodingPengembanganML/ML-Dicoding-Check\n"
          ],
          "name": "stdout"
        },
        {
          "output_type": "stream",
          "text": [
            "WARNING:absl:Found untraced functions such as lstm_cell_layer_call_and_return_conditional_losses, lstm_cell_layer_call_fn, lstm_cell_layer_call_fn, lstm_cell_layer_call_and_return_conditional_losses, lstm_cell_layer_call_and_return_conditional_losses while saving (showing 5 of 5). These functions will not be directly callable after loading.\n"
          ],
          "name": "stderr"
        },
        {
          "output_type": "stream",
          "text": [
            "INFO:tensorflow:Assets written to: /content/drive/MyDrive/SubmissionDicodingPengembanganML/ML-Dicoding-Check/assets\n"
          ],
          "name": "stdout"
        },
        {
          "output_type": "stream",
          "text": [
            "INFO:tensorflow:Assets written to: /content/drive/MyDrive/SubmissionDicodingPengembanganML/ML-Dicoding-Check/assets\n"
          ],
          "name": "stderr"
        },
        {
          "output_type": "stream",
          "text": [
            "Epoch 81/120\n",
            "410/410 [==============================] - 81s 197ms/step - loss: 0.1753 - accuracy: 0.9493 - val_loss: 0.6275 - val_accuracy: 0.8310\n",
            "\n",
            "Epoch 00081: saving model to /content/drive/MyDrive/SubmissionDicodingPengembanganML/ML-Dicoding-Check\n"
          ],
          "name": "stdout"
        },
        {
          "output_type": "stream",
          "text": [
            "WARNING:absl:Found untraced functions such as lstm_cell_layer_call_and_return_conditional_losses, lstm_cell_layer_call_fn, lstm_cell_layer_call_fn, lstm_cell_layer_call_and_return_conditional_losses, lstm_cell_layer_call_and_return_conditional_losses while saving (showing 5 of 5). These functions will not be directly callable after loading.\n"
          ],
          "name": "stderr"
        },
        {
          "output_type": "stream",
          "text": [
            "INFO:tensorflow:Assets written to: /content/drive/MyDrive/SubmissionDicodingPengembanganML/ML-Dicoding-Check/assets\n"
          ],
          "name": "stdout"
        },
        {
          "output_type": "stream",
          "text": [
            "INFO:tensorflow:Assets written to: /content/drive/MyDrive/SubmissionDicodingPengembanganML/ML-Dicoding-Check/assets\n"
          ],
          "name": "stderr"
        },
        {
          "output_type": "stream",
          "text": [
            "Epoch 82/120\n",
            "410/410 [==============================] - 80s 195ms/step - loss: 0.1727 - accuracy: 0.9514 - val_loss: 0.6510 - val_accuracy: 0.8283\n",
            "\n",
            "Epoch 00082: saving model to /content/drive/MyDrive/SubmissionDicodingPengembanganML/ML-Dicoding-Check\n"
          ],
          "name": "stdout"
        },
        {
          "output_type": "stream",
          "text": [
            "WARNING:absl:Found untraced functions such as lstm_cell_layer_call_and_return_conditional_losses, lstm_cell_layer_call_fn, lstm_cell_layer_call_fn, lstm_cell_layer_call_and_return_conditional_losses, lstm_cell_layer_call_and_return_conditional_losses while saving (showing 5 of 5). These functions will not be directly callable after loading.\n"
          ],
          "name": "stderr"
        },
        {
          "output_type": "stream",
          "text": [
            "INFO:tensorflow:Assets written to: /content/drive/MyDrive/SubmissionDicodingPengembanganML/ML-Dicoding-Check/assets\n"
          ],
          "name": "stdout"
        },
        {
          "output_type": "stream",
          "text": [
            "INFO:tensorflow:Assets written to: /content/drive/MyDrive/SubmissionDicodingPengembanganML/ML-Dicoding-Check/assets\n"
          ],
          "name": "stderr"
        },
        {
          "output_type": "stream",
          "text": [
            "Epoch 83/120\n",
            "410/410 [==============================] - 80s 196ms/step - loss: 0.1750 - accuracy: 0.9495 - val_loss: 0.6462 - val_accuracy: 0.8262\n",
            "\n",
            "Epoch 00083: saving model to /content/drive/MyDrive/SubmissionDicodingPengembanganML/ML-Dicoding-Check\n"
          ],
          "name": "stdout"
        },
        {
          "output_type": "stream",
          "text": [
            "WARNING:absl:Found untraced functions such as lstm_cell_layer_call_and_return_conditional_losses, lstm_cell_layer_call_fn, lstm_cell_layer_call_fn, lstm_cell_layer_call_and_return_conditional_losses, lstm_cell_layer_call_and_return_conditional_losses while saving (showing 5 of 5). These functions will not be directly callable after loading.\n"
          ],
          "name": "stderr"
        },
        {
          "output_type": "stream",
          "text": [
            "INFO:tensorflow:Assets written to: /content/drive/MyDrive/SubmissionDicodingPengembanganML/ML-Dicoding-Check/assets\n"
          ],
          "name": "stdout"
        },
        {
          "output_type": "stream",
          "text": [
            "INFO:tensorflow:Assets written to: /content/drive/MyDrive/SubmissionDicodingPengembanganML/ML-Dicoding-Check/assets\n"
          ],
          "name": "stderr"
        },
        {
          "output_type": "stream",
          "text": [
            "Epoch 84/120\n",
            "410/410 [==============================] - 80s 194ms/step - loss: 0.1793 - accuracy: 0.9468 - val_loss: 0.6433 - val_accuracy: 0.8289\n",
            "\n",
            "Epoch 00084: saving model to /content/drive/MyDrive/SubmissionDicodingPengembanganML/ML-Dicoding-Check\n"
          ],
          "name": "stdout"
        },
        {
          "output_type": "stream",
          "text": [
            "WARNING:absl:Found untraced functions such as lstm_cell_layer_call_and_return_conditional_losses, lstm_cell_layer_call_fn, lstm_cell_layer_call_fn, lstm_cell_layer_call_and_return_conditional_losses, lstm_cell_layer_call_and_return_conditional_losses while saving (showing 5 of 5). These functions will not be directly callable after loading.\n"
          ],
          "name": "stderr"
        },
        {
          "output_type": "stream",
          "text": [
            "INFO:tensorflow:Assets written to: /content/drive/MyDrive/SubmissionDicodingPengembanganML/ML-Dicoding-Check/assets\n"
          ],
          "name": "stdout"
        },
        {
          "output_type": "stream",
          "text": [
            "INFO:tensorflow:Assets written to: /content/drive/MyDrive/SubmissionDicodingPengembanganML/ML-Dicoding-Check/assets\n"
          ],
          "name": "stderr"
        },
        {
          "output_type": "stream",
          "text": [
            "Epoch 85/120\n",
            "410/410 [==============================] - 80s 195ms/step - loss: 0.2396 - accuracy: 0.9199 - val_loss: 0.6173 - val_accuracy: 0.8280\n",
            "\n",
            "Epoch 00085: saving model to /content/drive/MyDrive/SubmissionDicodingPengembanganML/ML-Dicoding-Check\n"
          ],
          "name": "stdout"
        },
        {
          "output_type": "stream",
          "text": [
            "WARNING:absl:Found untraced functions such as lstm_cell_layer_call_and_return_conditional_losses, lstm_cell_layer_call_fn, lstm_cell_layer_call_fn, lstm_cell_layer_call_and_return_conditional_losses, lstm_cell_layer_call_and_return_conditional_losses while saving (showing 5 of 5). These functions will not be directly callable after loading.\n"
          ],
          "name": "stderr"
        },
        {
          "output_type": "stream",
          "text": [
            "INFO:tensorflow:Assets written to: /content/drive/MyDrive/SubmissionDicodingPengembanganML/ML-Dicoding-Check/assets\n"
          ],
          "name": "stdout"
        },
        {
          "output_type": "stream",
          "text": [
            "INFO:tensorflow:Assets written to: /content/drive/MyDrive/SubmissionDicodingPengembanganML/ML-Dicoding-Check/assets\n"
          ],
          "name": "stderr"
        },
        {
          "output_type": "stream",
          "text": [
            "Epoch 86/120\n",
            "410/410 [==============================] - 79s 193ms/step - loss: 0.1844 - accuracy: 0.9433 - val_loss: 0.6196 - val_accuracy: 0.8295\n",
            "\n",
            "Epoch 00086: saving model to /content/drive/MyDrive/SubmissionDicodingPengembanganML/ML-Dicoding-Check\n"
          ],
          "name": "stdout"
        },
        {
          "output_type": "stream",
          "text": [
            "WARNING:absl:Found untraced functions such as lstm_cell_layer_call_and_return_conditional_losses, lstm_cell_layer_call_fn, lstm_cell_layer_call_fn, lstm_cell_layer_call_and_return_conditional_losses, lstm_cell_layer_call_and_return_conditional_losses while saving (showing 5 of 5). These functions will not be directly callable after loading.\n"
          ],
          "name": "stderr"
        },
        {
          "output_type": "stream",
          "text": [
            "INFO:tensorflow:Assets written to: /content/drive/MyDrive/SubmissionDicodingPengembanganML/ML-Dicoding-Check/assets\n"
          ],
          "name": "stdout"
        },
        {
          "output_type": "stream",
          "text": [
            "INFO:tensorflow:Assets written to: /content/drive/MyDrive/SubmissionDicodingPengembanganML/ML-Dicoding-Check/assets\n"
          ],
          "name": "stderr"
        },
        {
          "output_type": "stream",
          "text": [
            "Epoch 87/120\n",
            "410/410 [==============================] - 81s 198ms/step - loss: 0.1691 - accuracy: 0.9514 - val_loss: 0.6953 - val_accuracy: 0.8338\n",
            "\n",
            "Epoch 00087: saving model to /content/drive/MyDrive/SubmissionDicodingPengembanganML/ML-Dicoding-Check\n"
          ],
          "name": "stdout"
        },
        {
          "output_type": "stream",
          "text": [
            "WARNING:absl:Found untraced functions such as lstm_cell_layer_call_and_return_conditional_losses, lstm_cell_layer_call_fn, lstm_cell_layer_call_fn, lstm_cell_layer_call_and_return_conditional_losses, lstm_cell_layer_call_and_return_conditional_losses while saving (showing 5 of 5). These functions will not be directly callable after loading.\n"
          ],
          "name": "stderr"
        },
        {
          "output_type": "stream",
          "text": [
            "INFO:tensorflow:Assets written to: /content/drive/MyDrive/SubmissionDicodingPengembanganML/ML-Dicoding-Check/assets\n"
          ],
          "name": "stdout"
        },
        {
          "output_type": "stream",
          "text": [
            "INFO:tensorflow:Assets written to: /content/drive/MyDrive/SubmissionDicodingPengembanganML/ML-Dicoding-Check/assets\n"
          ],
          "name": "stderr"
        },
        {
          "output_type": "stream",
          "text": [
            "Epoch 88/120\n",
            "410/410 [==============================] - 80s 196ms/step - loss: 0.1848 - accuracy: 0.9450 - val_loss: 0.6540 - val_accuracy: 0.8335\n",
            "\n",
            "Epoch 00088: saving model to /content/drive/MyDrive/SubmissionDicodingPengembanganML/ML-Dicoding-Check\n"
          ],
          "name": "stdout"
        },
        {
          "output_type": "stream",
          "text": [
            "WARNING:absl:Found untraced functions such as lstm_cell_layer_call_and_return_conditional_losses, lstm_cell_layer_call_fn, lstm_cell_layer_call_fn, lstm_cell_layer_call_and_return_conditional_losses, lstm_cell_layer_call_and_return_conditional_losses while saving (showing 5 of 5). These functions will not be directly callable after loading.\n"
          ],
          "name": "stderr"
        },
        {
          "output_type": "stream",
          "text": [
            "INFO:tensorflow:Assets written to: /content/drive/MyDrive/SubmissionDicodingPengembanganML/ML-Dicoding-Check/assets\n"
          ],
          "name": "stdout"
        },
        {
          "output_type": "stream",
          "text": [
            "INFO:tensorflow:Assets written to: /content/drive/MyDrive/SubmissionDicodingPengembanganML/ML-Dicoding-Check/assets\n"
          ],
          "name": "stderr"
        },
        {
          "output_type": "stream",
          "text": [
            "Epoch 89/120\n",
            "410/410 [==============================] - 82s 199ms/step - loss: 0.1644 - accuracy: 0.9534 - val_loss: 0.6593 - val_accuracy: 0.8295\n",
            "\n",
            "Epoch 00089: saving model to /content/drive/MyDrive/SubmissionDicodingPengembanganML/ML-Dicoding-Check\n"
          ],
          "name": "stdout"
        },
        {
          "output_type": "stream",
          "text": [
            "WARNING:absl:Found untraced functions such as lstm_cell_layer_call_and_return_conditional_losses, lstm_cell_layer_call_fn, lstm_cell_layer_call_fn, lstm_cell_layer_call_and_return_conditional_losses, lstm_cell_layer_call_and_return_conditional_losses while saving (showing 5 of 5). These functions will not be directly callable after loading.\n"
          ],
          "name": "stderr"
        },
        {
          "output_type": "stream",
          "text": [
            "INFO:tensorflow:Assets written to: /content/drive/MyDrive/SubmissionDicodingPengembanganML/ML-Dicoding-Check/assets\n"
          ],
          "name": "stdout"
        },
        {
          "output_type": "stream",
          "text": [
            "INFO:tensorflow:Assets written to: /content/drive/MyDrive/SubmissionDicodingPengembanganML/ML-Dicoding-Check/assets\n"
          ],
          "name": "stderr"
        },
        {
          "output_type": "stream",
          "text": [
            "Epoch 90/120\n",
            "410/410 [==============================] - 80s 194ms/step - loss: 0.2392 - accuracy: 0.9231 - val_loss: 0.6253 - val_accuracy: 0.8295\n",
            "\n",
            "Epoch 00090: saving model to /content/drive/MyDrive/SubmissionDicodingPengembanganML/ML-Dicoding-Check\n"
          ],
          "name": "stdout"
        },
        {
          "output_type": "stream",
          "text": [
            "WARNING:absl:Found untraced functions such as lstm_cell_layer_call_and_return_conditional_losses, lstm_cell_layer_call_fn, lstm_cell_layer_call_fn, lstm_cell_layer_call_and_return_conditional_losses, lstm_cell_layer_call_and_return_conditional_losses while saving (showing 5 of 5). These functions will not be directly callable after loading.\n"
          ],
          "name": "stderr"
        },
        {
          "output_type": "stream",
          "text": [
            "INFO:tensorflow:Assets written to: /content/drive/MyDrive/SubmissionDicodingPengembanganML/ML-Dicoding-Check/assets\n"
          ],
          "name": "stdout"
        },
        {
          "output_type": "stream",
          "text": [
            "INFO:tensorflow:Assets written to: /content/drive/MyDrive/SubmissionDicodingPengembanganML/ML-Dicoding-Check/assets\n"
          ],
          "name": "stderr"
        },
        {
          "output_type": "stream",
          "text": [
            "Epoch 91/120\n",
            "410/410 [==============================] - 80s 194ms/step - loss: 0.1728 - accuracy: 0.9492 - val_loss: 0.6371 - val_accuracy: 0.8286\n",
            "\n",
            "Epoch 00091: saving model to /content/drive/MyDrive/SubmissionDicodingPengembanganML/ML-Dicoding-Check\n"
          ],
          "name": "stdout"
        },
        {
          "output_type": "stream",
          "text": [
            "WARNING:absl:Found untraced functions such as lstm_cell_layer_call_and_return_conditional_losses, lstm_cell_layer_call_fn, lstm_cell_layer_call_fn, lstm_cell_layer_call_and_return_conditional_losses, lstm_cell_layer_call_and_return_conditional_losses while saving (showing 5 of 5). These functions will not be directly callable after loading.\n"
          ],
          "name": "stderr"
        },
        {
          "output_type": "stream",
          "text": [
            "INFO:tensorflow:Assets written to: /content/drive/MyDrive/SubmissionDicodingPengembanganML/ML-Dicoding-Check/assets\n"
          ],
          "name": "stdout"
        },
        {
          "output_type": "stream",
          "text": [
            "INFO:tensorflow:Assets written to: /content/drive/MyDrive/SubmissionDicodingPengembanganML/ML-Dicoding-Check/assets\n"
          ],
          "name": "stderr"
        },
        {
          "output_type": "stream",
          "text": [
            "Epoch 92/120\n",
            "410/410 [==============================] - 81s 197ms/step - loss: 0.2180 - accuracy: 0.9258 - val_loss: 0.6203 - val_accuracy: 0.8332\n",
            "\n",
            "Epoch 00092: saving model to /content/drive/MyDrive/SubmissionDicodingPengembanganML/ML-Dicoding-Check\n"
          ],
          "name": "stdout"
        },
        {
          "output_type": "stream",
          "text": [
            "WARNING:absl:Found untraced functions such as lstm_cell_layer_call_and_return_conditional_losses, lstm_cell_layer_call_fn, lstm_cell_layer_call_fn, lstm_cell_layer_call_and_return_conditional_losses, lstm_cell_layer_call_and_return_conditional_losses while saving (showing 5 of 5). These functions will not be directly callable after loading.\n"
          ],
          "name": "stderr"
        },
        {
          "output_type": "stream",
          "text": [
            "INFO:tensorflow:Assets written to: /content/drive/MyDrive/SubmissionDicodingPengembanganML/ML-Dicoding-Check/assets\n"
          ],
          "name": "stdout"
        },
        {
          "output_type": "stream",
          "text": [
            "INFO:tensorflow:Assets written to: /content/drive/MyDrive/SubmissionDicodingPengembanganML/ML-Dicoding-Check/assets\n"
          ],
          "name": "stderr"
        },
        {
          "output_type": "stream",
          "text": [
            "Epoch 00092: early stopping\n"
          ],
          "name": "stdout"
        }
      ]
    },
    {
      "cell_type": "code",
      "metadata": {
        "colab": {
          "base_uri": "https://localhost:8080/",
          "height": 295
        },
        "id": "kqCVVt5Huuq7",
        "outputId": "dcd3f8d6-1b6d-4579-c2a0-be195102be10"
      },
      "source": [
        "plt.plot(history.history['accuracy'])\n",
        "plt.plot(history.history['val_accuracy'])\n",
        "plt.title('model accuracy')\n",
        "plt.ylabel('accuracy')\n",
        "plt.xlabel('epoch')\n",
        "plt.legend(['train', 'val'], loc='upper left')\n",
        "plt.show()"
      ],
      "execution_count": null,
      "outputs": [
        {
          "output_type": "display_data",
          "data": {
            "image/png": "[encoded data removed]",
            "text/plain": [
              "<Figure size 432x288 with 1 Axes>"
            ]
          },
          "metadata": {
            "tags": [],
            "needs_background": "light"
          }
        }
      ]
    },
    {
      "cell_type": "code",
      "metadata": {
        "colab": {
          "base_uri": "https://localhost:8080/",
          "height": 295
        },
        "id": "O5cNQI6CuxbH",
        "outputId": "63f7456a-25fa-4bdf-cbb1-00ee35ebea7e"
      },
      "source": [
        "plt.plot(history.history['loss'])\n",
        "plt.plot(history.history['val_loss'])\n",
        "plt.title('model loss')\n",
        "plt.ylabel('loss')\n",
        "plt.xlabel('epoch')\n",
        "plt.legend(['train', 'val'], loc='upper left')\n",
        "plt.show()"
      ],
      "execution_count": null,
      "outputs": [
        {
          "output_type": "display_data",
          "data": {
            "image/png": "[encoded data removed]",
            "text/plain": [
              "<Figure size 432x288 with 1 Axes>"
            ]
          },
          "metadata": {
            "tags": [],
            "needs_background": "light"
          }
        }
      ]
    },
    {
      "cell_type": "code",
      "metadata": {
        "colab": {
          "base_uri": "https://localhost:8080/"
        },
        "id": "2_YeissjvHms",
        "outputId": "09df759e-3949-45be-b739-519acbbae5b0"
      },
      "source": [
        "from sklearn.metrics import accuracy_score, precision_score, recall_score, f1_score, confusion_matrix, classification_report\n",
        "# Evaluasi Model dan Membuat Prediksi\n",
        "predicted = model.predict(validation_padded)\n",
        "y_true = np.argmax(validation_labels, axis=1)\n",
        "y_preds = np.argmax(predicted, axis=1)\n",
        "\n",
        "accuracy = accuracy_score(y_true, y_preds)\n",
        "precision = precision_score(y_true, y_preds, average='micro')\n",
        "recall = recall_score(y_true, y_preds, average='micro')\n",
        "f1 = f1_score(y_true, y_preds, average='micro')\n",
        "metric_dict = {\"accuracy\": round(accuracy, 2),\n",
        "               \"precision\": round(precision, 2),\n",
        "                \"recall\": round(recall, 2),\n",
        "                \"f1\": round(f1, 2)}\n",
        "print(f\"Acc: {accuracy * 100:.2f}%\")\n",
        "print(f\"Precision: {precision:.2f}\")\n",
        "print(f\"Recall: {recall:.2f}\")\n",
        "print(f\"F1 score: {f1:.2f}\")"
      ],
      "execution_count": null,
      "outputs": [
        {
          "output_type": "stream",
          "text": [
            "Acc: 82.51%\n",
            "Precision: 0.83\n",
            "Recall: 0.83\n",
            "F1 score: 0.83\n"
          ],
          "name": "stdout"
        }
      ]
    }
  ]
}